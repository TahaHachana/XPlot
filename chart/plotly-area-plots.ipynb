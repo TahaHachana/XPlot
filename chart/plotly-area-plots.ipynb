
        {
            "cells": [
          {
           "cell_type": "code",
           "metadata": {},
            "execution_count": null, "outputs": [], 
           "source": ["#i \"nuget:https://pkgs.dev.azure.com/dnceng/public/_packaging/dotnet5/nuget/v3/index.json\"\n",
"#i \"nuget:https://pkgs.dev.azure.com/dnceng/public/_packaging/dotnet-tools/nuget/v3/index.json\"\n",
"#r \"nuget: XPlot.Plotly\"\n",
"#r \"nuget: XPlot.Plotly.Interactive\"\n"]
          }
,
          {
           "cell_type": "markdown",
           "metadata": {},
           
           "source": ["Plotly Area Plots\n",
"\n",
"[![Binder](https://mybinder.org/badge_logo.svg)](https://mybinder.org/v2/gh/fslaborg/XPlot/gh-pages?filepath=plotly-area-plots.ipynb)\n",
"\n",
"Basic Overlaid Area Chart\n",
"-------------------------\n"]
          }
,
          {
           "cell_type": "code",
           "metadata": {},
            "execution_count": 2, "outputs": [], 
           "source": ["open XPlot.Plotly\n",
"\n",
"let trace1 =\n",
"    Scatter(\n",
"        x = [1; 2; 3; 4],\n",
"        y = [0; 2; 3; 5],\n",
"        fill = \"tozeroy\"\n",
"    )\n",
"\n",
"let trace2 =\n",
"    Scatter(\n",
"        x = [1; 2; 3; 4],\n",
"        y = [3; 5; 1; 7],\n",
"        fill = \"tonexty\"\n",
"    )\n",
"\n",
"let layout =\n",
"    Layout(\n",
"        title = \"Basic Overlaid Area Chart\",\n",
"        width = 700.,\n",
"        height = 500.\n",
"    )\n",
"\n",
"let chart =\n",
"    [trace1; trace2]\n",
"    |\u003e Chart.Plot\n",
"    |\u003e Chart.WithLayout layout\n"]
          }
,
          {
           "cell_type": "code",
           "metadata": {},
            "execution_count": null, "outputs": [
          {
           "data": {
            "text/html": ["\u003c!DOCTYPE html\u003e",
"\u003chtml\u003e",
"    \u003chead\u003e",
"        \u003cmeta charset=\"UTF-8\" /\u003e",
"        \u003cscript src=\"https://cdn.plot.ly/plotly-latest.min.js\"\u003e\u003c/script\u003e",
"    \u003c/head\u003e",
"    \u003cbody\u003e",
"        \u003cdiv id=\"c41c2116-2dcf-448e-9f47-2896585efade\" style=\"width: 900px; height: 500px;\"\u003e\u003c/div\u003e",
"        \u003cscript\u003e",
"            var data = [{\"type\":\"scatter\",\"x\":[1,2,3,4],\"y\":[0,2,3,5],\"fill\":\"tozeroy\"},{\"type\":\"scatter\",\"x\":[1,2,3,4],\"y\":[3,5,1,7],\"fill\":\"tonexty\"}];",
"           var layout = {\"title\":\"Basic Overlaid Area Chart\",\"width\":700.0,\"height\":500.0};",
"           Plotly.newPlot(\u0027c41c2116-2dcf-448e-9f47-2896585efade\u0027, data, layout);",
"        \u003c/script\u003e",
"    \u003c/body\u003e",
"\u003c/html\u003e"]
        },
           "execution_count": null,
           "metadata": {},
           "output_type": "execute_result"
          }], 
           "source": ["chart\n"]
          }],
            "metadata": {
            "kernelspec": {"display_name": ".NET (F#)", "language": "F#", "name": ".net-fsharp"},
            "langauge_info": {
        "file_extension": ".fs",
        "mimetype": "text/x-fsharp",
        "name": "C#",
        "pygments_lexer": "fsharp",
        "version": "4.5"
        }
        },
            "nbformat": 4,
            "nbformat_minor": 1
        }
        

