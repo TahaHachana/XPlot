
        {
            "cells": [
          {
           "cell_type": "code",
           "metadata": {},
            "execution_count": null, "outputs": [], 
           "source": ["#i \"nuget:https://pkgs.dev.azure.com/dnceng/public/_packaging/dotnet5/nuget/v3/index.json\"\n",
"#i \"nuget:https://pkgs.dev.azure.com/dnceng/public/_packaging/dotnet-tools/nuget/v3/index.json\"\n",
"#r \"nuget: XPlot.GoogleCharts\"\n"]
          }
,
          {
           "cell_type": "markdown",
           "metadata": {},
           
           "source": ["Google Pie Chart\n",
"\n",
"[![Binder](https://mybinder.org/badge_logo.svg)](https://mybinder.org/v2/gh/fslaborg/XPlot/gh-pages?filepath=google-pie-chart.ipynb)\n",
"\n"]
          }
,
          {
           "cell_type": "code",
           "metadata": {},
            "execution_count": 2, "outputs": [
          {
           "data": {
            "text/html": ["\u003c!DOCTYPE html\u003e",
"\u003chtml\u003e",
"    \u003chead\u003e",
"        \u003cmeta charset=\"UTF-8\"\u003e",
"        \u003cmeta http-equiv=\"X-UA-Compatible\" content=\"IE=edge\" /\u003e",
"        \u003ctitle\u003eGoogle Chart\u003c/title\u003e",
"        \u003cscript type=\"text/javascript\" src=\"https://www.gstatic.com/charts/loader.js\"\u003e\u003c/script\u003e",
"        \u003cscript type=\"text/javascript\"\u003e",
"            google.charts.load(\u0027current\u0027, {",
"              packages: [\"corechart\"]",
"            });",
"            google.charts.setOnLoadCallback(drawChart_b64a3fc5_bc3c_46fe_833a_8d0ab23cb567);",
"            function drawChart_b64a3fc5_bc3c_46fe_833a_8d0ab23cb567() {",
"                if (\"\")",
"                    google.visualization.mapsApiKey = \"\"",
"",
"                var data = new google.visualization.DataTable({\"cols\": [{\"type\": \"string\" ,\"id\": \"Column 1\" ,\"label\": \"Column 1\" }, {\"type\": \"number\" ,\"id\": \"Column 2\" ,\"label\": \"Column 2\" }], \"rows\" : [{\"c\" : [{\"v\": \"Work\"}, {\"v\": 11}]}, {\"c\" : [{\"v\": \"Eat\"}, {\"v\": 2}]}, {\"c\" : [{\"v\": \"Commute\"}, {\"v\": 2}]}, {\"c\" : [{\"v\": \"Watch TV\"}, {\"v\": 2}]}, {\"c\" : [{\"v\": \"Sleep\"}, {\"v\": 7}]}]});",
"",
"                ",
"",
"                var options = {\"legend\":{\"position\":\"right\"},\"title\":\"My Daily Activities\"}",
"",
"                var chart = new google.visualization.PieChart(document.getElementById(\u0027b64a3fc5_bc3c_46fe_833a_8d0ab23cb567\u0027));",
"                chart.draw(data, options);",
"            }",
"        \u003c/script\u003e",
"    \u003c/head\u003e",
"    \u003cbody\u003e",
"        \u003cdiv id=\"b64a3fc5_bc3c_46fe_833a_8d0ab23cb567\" style=\"width: -1px; height: -1px;\"\u003e\u003c/div\u003e",
"    \u003c/body\u003e",
"\u003c/html\u003e"]
        },
           "execution_count": 2,
           "metadata": {},
           "output_type": "execute_result"
          }], 
           "source": ["open XPlot.GoogleCharts\n",
"\n",
"let data =\n",
"    [\n",
"        \"Work\", 11\n",
"        \"Eat\", 2\n",
"        \"Commute\", 2\n",
"        \"Watch TV\", 2\n",
"        \"Sleep\", 7\n",
"    ]\n",
"\n",
"let chart =\n",
"    data\n",
"    |\u003e Chart.Pie\n",
"    |\u003e Chart.WithTitle \"My Daily Activities\"\n",
"    |\u003e Chart.WithLegend true\n"]
          }],
            "metadata": {
            "kernelspec": {"display_name": ".NET (F#)", "language": "F#", "name": ".net-fsharp"},
            "langauge_info": {
        "file_extension": ".fs",
        "mimetype": "text/x-fsharp",
        "name": "C#",
        "pygments_lexer": "fsharp",
        "version": "4.5"
        }
        },
            "nbformat": 4,
            "nbformat_minor": 1
        }
        

