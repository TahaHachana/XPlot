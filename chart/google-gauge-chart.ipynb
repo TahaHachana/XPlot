
        {
            "cells": [
          {
           "cell_type": "code",
           "metadata": {},
            "execution_count": null, "outputs": [], 
           "source": ["#i \"nuget:https://pkgs.dev.azure.com/dnceng/public/_packaging/dotnet5/nuget/v3/index.json\"\n",
"#i \"nuget:https://pkgs.dev.azure.com/dnceng/public/_packaging/dotnet-tools/nuget/v3/index.json\"\n",
"#r \"nuget: XPlot.GoogleCharts\"\n"]
          }
,
          {
           "cell_type": "markdown",
           "metadata": {},
           
           "source": ["Google Gauge Chart\n",
"\n",
"[![Binder](https://mybinder.org/badge_logo.svg)](https://mybinder.org/v2/gh/fslaborg/XPlot/gh-pages?filepath=google-gauge-chart.ipynb)\n",
"\n"]
          }
,
          {
           "cell_type": "code",
           "metadata": {},
            "execution_count": 2, "outputs": [
          {
           "data": {
            "text/html": ["\u003c!DOCTYPE html\u003e",
"\u003chtml\u003e",
"    \u003chead\u003e",
"        \u003cmeta charset=\"UTF-8\"\u003e",
"        \u003cmeta http-equiv=\"X-UA-Compatible\" content=\"IE=edge\" /\u003e",
"        \u003ctitle\u003eGoogle Chart\u003c/title\u003e",
"        \u003cscript type=\"text/javascript\" src=\"https://www.gstatic.com/charts/loader.js\"\u003e\u003c/script\u003e",
"        \u003cscript type=\"text/javascript\"\u003e",
"            google.charts.load(\u0027current\u0027, {",
"              packages: [\"gauge\"]",
"            });",
"            google.charts.setOnLoadCallback(drawChart_8e9c30b1_8aa3_4a00_afea_1b1bb20e319b);",
"            function drawChart_8e9c30b1_8aa3_4a00_afea_1b1bb20e319b() {",
"                if (\"\")",
"                    google.visualization.mapsApiKey = \"\"",
"",
"                var data = new google.visualization.DataTable({\"cols\": [{\"type\": \"string\" ,\"id\": \"Column 1\" ,\"label\": \"Column 1\" }, {\"type\": \"number\" ,\"id\": \"Column 2\" ,\"label\": \"Column 2\" }], \"rows\" : [{\"c\" : [{\"v\": \"Memory\"}, {\"v\": 80}]}, {\"c\" : [{\"v\": \"CPU\"}, {\"v\": 55}]}, {\"c\" : [{\"v\": \"Network\"}, {\"v\": 68}]}]});",
"",
"                ",
"",
"                var options = {\"height\":120,\"legend\":{\"position\":\"none\"},\"width\":400,\"minorTicks\":5,\"redFrom\":90,\"redTo\":100,\"yellowFrom\":75,\"yellowTo\":90}",
"",
"                var chart = new google.visualization.Gauge(document.getElementById(\u00278e9c30b1_8aa3_4a00_afea_1b1bb20e319b\u0027));",
"                chart.draw(data, options);",
"            }",
"        \u003c/script\u003e",
"    \u003c/head\u003e",
"    \u003cbody\u003e",
"        \u003cdiv id=\"8e9c30b1_8aa3_4a00_afea_1b1bb20e319b\" style=\"width: -1px; height: -1px;\"\u003e\u003c/div\u003e",
"    \u003c/body\u003e",
"\u003c/html\u003e"]
        },
           "execution_count": 2,
           "metadata": {},
           "output_type": "execute_result"
          }], 
           "source": ["open XPlot.GoogleCharts\n",
"\n",
"let data = [\"Memory\", 80; \"CPU\", 55; \"Network\", 68]\n",
"\n",
"let options =\n",
"    Options(\n",
"        width = 400,\n",
"        height = 120,\n",
"        redFrom = 90,\n",
"        redTo = 100,\n",
"        yellowFrom = 75,\n",
"        yellowTo = 90,\n",
"        minorTicks = 5\n",
"    )\n",
"\n",
"let chart =\n",
"    Chart.Gauge data\n",
"    |\u003e Chart.WithOptions options\n"]
          }],
            "metadata": {
            "kernelspec": {"display_name": ".NET (F#)", "language": "F#", "name": ".net-fsharp"},
            "langauge_info": {
        "file_extension": ".fs",
        "mimetype": "text/x-fsharp",
        "name": "C#",
        "pygments_lexer": "fsharp",
        "version": "4.5"
        }
        },
            "nbformat": 4,
            "nbformat_minor": 1
        }
        

