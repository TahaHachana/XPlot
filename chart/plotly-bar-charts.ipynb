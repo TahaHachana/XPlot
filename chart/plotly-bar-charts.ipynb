
        {
            "cells": [
          {
           "cell_type": "code",
           "metadata": {},
            "execution_count": null, "outputs": [], 
           "source": ["#i \"nuget:https://pkgs.dev.azure.com/dnceng/public/_packaging/dotnet5/nuget/v3/index.json\"\n",
"#i \"nuget:https://pkgs.dev.azure.com/dnceng/public/_packaging/dotnet-tools/nuget/v3/index.json\"\n",
"#r \"nuget: XPlot.Plotly\"\n",
"#r \"nuget: XPlot.Plotly.Interactive\"\n"]
          }
,
          {
           "cell_type": "markdown",
           "metadata": {},
           
           "source": ["Plotly Bar Charts\n",
"\n",
"[![Binder](https://mybinder.org/badge_logo.svg)](https://mybinder.org/v2/gh/fslaborg/XPlot/gh-pages?filepath=plotly-bar-charts.ipynb)\n",
"\n",
"Basic Bar Chart\n",
"---------------\n"]
          }
,
          {
           "cell_type": "code",
           "metadata": {},
            "execution_count": 2, "outputs": [], 
           "source": ["open XPlot.Plotly\n",
"\n",
"let layout = Layout(title = \"Basic Bar Chart\")\n",
"\n",
"let data = [\"giraffes\", 20; \"orangutans\", 14; \"monkeys\", 23]\n",
"\n",
"let chart1 =\n",
"    data\n",
"    |\u003e Chart.Bar\n",
"    |\u003e Chart.WithLayout layout\n",
"    |\u003e Chart.WithHeight 500\n",
"    |\u003e Chart.WithWidth 700\n"]
          }
,
          {
           "cell_type": "code",
           "metadata": {},
            "execution_count": null, "outputs": [
          {
           "data": {
            "text/html": ["\u003c!DOCTYPE html\u003e",
"\u003chtml\u003e",
"    \u003chead\u003e",
"        \u003cmeta charset=\"UTF-8\" /\u003e",
"        \u003cscript src=\"https://cdn.plot.ly/plotly-latest.min.js\"\u003e\u003c/script\u003e",
"    \u003c/head\u003e",
"    \u003cbody\u003e",
"        \u003cdiv id=\"0ae4862b-d1ef-4fbc-a57a-f1b95e5b6879\" style=\"width: 700px; height: 500px;\"\u003e\u003c/div\u003e",
"        \u003cscript\u003e",
"            var data = [{\"type\":\"bar\",\"x\":[20,14,23],\"y\":[\"giraffes\",\"orangutans\",\"monkeys\"],\"orientation\":\"h\"}];",
"           var layout = {\"title\":\"Basic Bar Chart\"};",
"           Plotly.newPlot(\u00270ae4862b-d1ef-4fbc-a57a-f1b95e5b6879\u0027, data, layout);",
"        \u003c/script\u003e",
"    \u003c/body\u003e",
"\u003c/html\u003e"]
        },
           "execution_count": null,
           "metadata": {},
           "output_type": "execute_result"
          }], 
           "source": ["chart1\n"]
          }
,
          {
           "cell_type": "markdown",
           "metadata": {},
           
           "source": ["Grouped Bar Chart\n",
"-----------------\n"]
          }
,
          {
           "cell_type": "code",
           "metadata": {},
            "execution_count": 4, "outputs": [], 
           "source": ["let groupedTrace1 =\n",
"    Bar(\n",
"        x = [\"giraffes\"; \"orangutans\"; \"monkeys\"],\n",
"        y = [20; 14; 23],\n",
"        name= \"SF Zoo\"\n",
"    )\n",
"\n",
"let groupedTrace2 =\n",
"    Bar(\n",
"        x = [\"giraffes\"; \"orangutans\"; \"monkeys\"],\n",
"        y = [12; 18; 29],\n",
"        name = \"LA Zoo\"\n",
"    )\n",
"\n",
"let groupedLayout = Layout(barmode = \"group\")\n",
"\n",
"let chart2 =\n",
"    [groupedTrace1; groupedTrace2]\n",
"    |\u003e Chart.Plot\n",
"    |\u003e Chart.WithLayout groupedLayout\n",
"    |\u003e Chart.WithHeight 500\n",
"    |\u003e Chart.WithWidth 700\n"]
          }
,
          {
           "cell_type": "code",
           "metadata": {},
            "execution_count": null, "outputs": [
          {
           "data": {
            "text/html": ["\u003c!DOCTYPE html\u003e",
"\u003chtml\u003e",
"    \u003chead\u003e",
"        \u003cmeta charset=\"UTF-8\" /\u003e",
"        \u003cscript src=\"https://cdn.plot.ly/plotly-latest.min.js\"\u003e\u003c/script\u003e",
"    \u003c/head\u003e",
"    \u003cbody\u003e",
"        \u003cdiv id=\"14da39d3-18d5-4d51-a716-8443ce1635c5\" style=\"width: 700px; height: 500px;\"\u003e\u003c/div\u003e",
"        \u003cscript\u003e",
"            var data = [{\"type\":\"bar\",\"x\":[\"giraffes\",\"orangutans\",\"monkeys\"],\"y\":[20,14,23],\"name\":\"SF Zoo\"},{\"type\":\"bar\",\"x\":[\"giraffes\",\"orangutans\",\"monkeys\"],\"y\":[12,18,29],\"name\":\"LA Zoo\"}];",
"           var layout = {\"barmode\":\"group\"};",
"           Plotly.newPlot(\u002714da39d3-18d5-4d51-a716-8443ce1635c5\u0027, data, layout);",
"        \u003c/script\u003e",
"    \u003c/body\u003e",
"\u003c/html\u003e"]
        },
           "execution_count": null,
           "metadata": {},
           "output_type": "execute_result"
          }], 
           "source": ["chart2\n"]
          }
,
          {
           "cell_type": "markdown",
           "metadata": {},
           
           "source": ["Stacked Bar Chart\n",
"-----------------\n"]
          }
,
          {
           "cell_type": "code",
           "metadata": {},
            "execution_count": 6, "outputs": [], 
           "source": ["let stackedTrace1 =\n",
"    Bar(\n",
"        x = [\"giraffes\"; \"orangutans\"; \"monkeys\"],\n",
"        y = [20; 14; 23],\n",
"        name = \"SF Zoo\"\n",
"    )\n",
"\n",
"let stackedTrace2 =\n",
"    Bar(\n",
"        x= [\"giraffes\"; \"orangutans\"; \"monkeys\"],\n",
"        y= [12; 18; 29],\n",
"        name = \"LA Zoo\"\n",
"    )\n",
"\n",
"let stackedLayout = Layout(barmode = \"stack\")\n",
"\n",
"let chart3 =\n",
"    [stackedTrace1; stackedTrace2]\n",
"    |\u003e Chart.Plot\n",
"    |\u003e Chart.WithLayout stackedLayout\n",
"    |\u003e Chart.WithHeight 500\n",
"    |\u003e Chart.WithWidth 700\n"]
          }
,
          {
           "cell_type": "code",
           "metadata": {},
            "execution_count": null, "outputs": [
          {
           "data": {
            "text/html": ["\u003c!DOCTYPE html\u003e",
"\u003chtml\u003e",
"    \u003chead\u003e",
"        \u003cmeta charset=\"UTF-8\" /\u003e",
"        \u003cscript src=\"https://cdn.plot.ly/plotly-latest.min.js\"\u003e\u003c/script\u003e",
"    \u003c/head\u003e",
"    \u003cbody\u003e",
"        \u003cdiv id=\"01598357-303a-4d42-833e-eb41deb583a8\" style=\"width: 700px; height: 500px;\"\u003e\u003c/div\u003e",
"        \u003cscript\u003e",
"            var data = [{\"type\":\"bar\",\"x\":[\"giraffes\",\"orangutans\",\"monkeys\"],\"y\":[20,14,23],\"name\":\"SF Zoo\"},{\"type\":\"bar\",\"x\":[\"giraffes\",\"orangutans\",\"monkeys\"],\"y\":[12,18,29],\"name\":\"LA Zoo\"}];",
"           var layout = {\"barmode\":\"stack\"};",
"           Plotly.newPlot(\u002701598357-303a-4d42-833e-eb41deb583a8\u0027, data, layout);",
"        \u003c/script\u003e",
"    \u003c/body\u003e",
"\u003c/html\u003e"]
        },
           "execution_count": null,
           "metadata": {},
           "output_type": "execute_result"
          }], 
           "source": ["chart3\n"]
          }
,
          {
           "cell_type": "markdown",
           "metadata": {},
           
           "source": ["Colored and Styled Bar Chart\n",
"----------------------------\n"]
          }
,
          {
           "cell_type": "code",
           "metadata": {},
            "execution_count": 8, "outputs": [], 
           "source": ["let styledTrace1 =\n",
"    Bar(\n",
"        x =\n",
"            [1995; 1996; 1997; 1998; 1999; 2000; 2001; 2002; 2003; 2004; 2005; 2006;\n",
"             2007; 2008; 2009; 2010; 2011; 2012],\n",
"        y =\n",
"            [219; 146; 112; 127; 124; 180; 236; 207; 236; 263; 350; 430; 474; 526; 488;\n",
"            537; 500; 439],\n",
"        name = \"Rest of world\",\n",
"        marker = Marker(color = \"rgb(55, 83, 109)\")\n",
"    )\n",
"\n",
"let styledTrace2 =\n",
"    Bar(\n",
"        x =\n",
"            [1995; 1996; 1997; 1998; 1999; 2000; 2001; 2002; 2003; 2004; 2005; 2006;\n",
"            2007; 2008; 2009; 2010; 2011; 2012],\n",
"        y =\n",
"            [16; 13; 10; 11; 28; 37; 43; 55; 56; 88; 105; 156; 270; 299; 340; 403; 549;\n",
"            499],\n",
"        name = \"China\",\n",
"        marker = Marker(color = \"rgb(26, 118, 255)\")\n",
"    )\n",
"\n",
"let styledLayout =\n",
"    Layout(\n",
"        title = \"US Export of Plastic Scrap\",\n",
"        xaxis =\n",
"            Xaxis(\n",
"                tickfont =\n",
"                    Font(\n",
"                        size = 14.,\n",
"                        color = \"rgb(107, 107, 107)\"\n",
"                    )\n",
"            ),\n",
"        yaxis =\n",
"            Yaxis(\n",
"                title = \"USD (millions)\",\n",
"                titlefont =\n",
"                    Font(\n",
"                        size = 16.,\n",
"                        color = \"rgb(107, 107, 107)\"\n",
"                    ),\n",
"                tickfont =\n",
"                    Font(\n",
"                        size = 14.,\n",
"                        color = \"rgb(107, 107, 107)\"\n",
"                    )\n",
"            ),\n",
"        legend =\n",
"            Legend(\n",
"                x = 0.,\n",
"                y = 1.0,\n",
"                bgcolor = \"rgba(255, 255, 255, 0)\",\n",
"                bordercolor = \"rgba(255, 255, 255, 0)\"\n",
"            ),\n",
"        barmode = \"group\",\n",
"        bargap = 0.15,\n",
"        bargroupgap = 0.1\n",
"    )\n",
"\n",
"let chart4 =\n",
"    [styledTrace1; styledTrace2]\n",
"    |\u003e Chart.Plot\n",
"    |\u003e Chart.WithLayout styledLayout\n",
"    |\u003e Chart.WithHeight 500\n",
"    |\u003e Chart.WithWidth 700\n"]
          }
,
          {
           "cell_type": "code",
           "metadata": {},
            "execution_count": null, "outputs": [
          {
           "data": {
            "text/html": ["\u003c!DOCTYPE html\u003e",
"\u003chtml\u003e",
"    \u003chead\u003e",
"        \u003cmeta charset=\"UTF-8\" /\u003e",
"        \u003cscript src=\"https://cdn.plot.ly/plotly-latest.min.js\"\u003e\u003c/script\u003e",
"    \u003c/head\u003e",
"    \u003cbody\u003e",
"        \u003cdiv id=\"a70742f7-8c3d-423c-8289-c15edb76bb26\" style=\"width: 700px; height: 500px;\"\u003e\u003c/div\u003e",
"        \u003cscript\u003e",
"            var data = [{\"type\":\"bar\",\"x\":[1995,1996,1997,1998,1999,2000,2001,2002,2003,2004,2005,2006,2007,2008,2009,2010,2011,2012],\"y\":[219,146,112,127,124,180,236,207,236,263,350,430,474,526,488,537,500,439],\"marker\":{\"color\":\"rgb(55, 83, 109)\"},\"name\":\"Rest of world\"},{\"type\":\"bar\",\"x\":[1995,1996,1997,1998,1999,2000,2001,2002,2003,2004,2005,2006,2007,2008,2009,2010,2011,2012],\"y\":[16,13,10,11,28,37,43,55,56,88,105,156,270,299,340,403,549,499],\"marker\":{\"color\":\"rgb(26, 118, 255)\"},\"name\":\"China\"}];",
"           var layout = {\"title\":\"US Export of Plastic Scrap\",\"xaxis\":{\"tickfont\":{\"size\":14.0,\"color\":\"rgb(107, 107, 107)\"},\"_isSubplotObj\":true},\"yaxis\":{\"title\":\"USD (millions)\",\"titlefont\":{\"size\":16.0,\"color\":\"rgb(107, 107, 107)\"},\"tickfont\":{\"size\":14.0,\"color\":\"rgb(107, 107, 107)\"},\"_isSubplotObj\":true},\"legend\":{\"bgcolor\":\"rgba(255, 255, 255, 0)\",\"bordercolor\":\"rgba(255, 255, 255, 0)\",\"x\":0.0,\"y\":1.0},\"barmode\":\"group\",\"bargap\":0.15,\"bargroupgap\":0.1};",
"           Plotly.newPlot(\u0027a70742f7-8c3d-423c-8289-c15edb76bb26\u0027, data, layout);",
"        \u003c/script\u003e",
"    \u003c/body\u003e",
"\u003c/html\u003e"]
        },
           "execution_count": null,
           "metadata": {},
           "output_type": "execute_result"
          }], 
           "source": ["chart4\n"]
          }
,
          {
           "cell_type": "markdown",
           "metadata": {},
           
           "source": ["Bar Chart with Hover Text\n",
"-------------------------\n"]
          }
,
          {
           "cell_type": "code",
           "metadata": {},
            "execution_count": 10, "outputs": [], 
           "source": ["let hoverTrace =\n",
"    Bar(\n",
"        x = [\"Liam\"; \"Sophie\"; \"Jacob\"; \"Mia\"; \"William\"; \"Olivia\"],\n",
"        y = [8.0; 8.0; 12.0; 12.0; 13.0; 20.0],\n",
"        text =\n",
"            [\"4.17 below the mean\"; \"4.17 below the mean\"; \"0.17 below the mean\";\n",
"            \"0.17 below the mean\"; \"0.83 above the mean\"; \"7.83 above the mean\"],\n",
"        marker = Marker(color = \"rgb(142, 124, 195)\")\n",
"    )\n",
"\n",
"let hoverLayout =\n",
"    Layout(\n",
"        title = \"Number of graphs made this week\",\n",
"        font = Font(family = \"Raleway, sans-serif\"),\n",
"        showlegend = false,\n",
"        xaxis= Xaxis(tickangle = -45.),\n",
"        yaxis=\n",
"            Yaxis(\n",
"                zeroline = false,\n",
"                gridwidth = 2.\n",
"            ),\n",
"        bargap = 0.05\n",
"    )\n",
"\n",
"let chart5 =\n",
"    hoverTrace\n",
"    |\u003e Chart.Plot\n",
"    |\u003e Chart.WithLayout hoverLayout\n",
"    |\u003e Chart.WithHeight 500\n",
"    |\u003e Chart.WithWidth 700\n"]
          }
,
          {
           "cell_type": "code",
           "metadata": {},
            "execution_count": null, "outputs": [
          {
           "data": {
            "text/html": ["\u003c!DOCTYPE html\u003e",
"\u003chtml\u003e",
"    \u003chead\u003e",
"        \u003cmeta charset=\"UTF-8\" /\u003e",
"        \u003cscript src=\"https://cdn.plot.ly/plotly-latest.min.js\"\u003e\u003c/script\u003e",
"    \u003c/head\u003e",
"    \u003cbody\u003e",
"        \u003cdiv id=\"8873e259-de02-4ef3-9f22-9dffdba502b2\" style=\"width: 700px; height: 500px;\"\u003e\u003c/div\u003e",
"        \u003cscript\u003e",
"            var data = [{\"type\":\"bar\",\"x\":[\"Liam\",\"Sophie\",\"Jacob\",\"Mia\",\"William\",\"Olivia\"],\"y\":[8.0,8.0,12.0,12.0,13.0,20.0],\"text\":[\"4.17 below the mean\",\"4.17 below the mean\",\"0.17 below the mean\",\"0.17 below the mean\",\"0.83 above the mean\",\"7.83 above the mean\"],\"marker\":{\"color\":\"rgb(142, 124, 195)\"}}];",
"           var layout = {\"font\":{\"family\":\"Raleway, sans-serif\"},\"title\":\"Number of graphs made this week\",\"showlegend\":false,\"xaxis\":{\"tickangle\":-45.0,\"_isSubplotObj\":true},\"yaxis\":{\"gridwidth\":2.0,\"zeroline\":false,\"_isSubplotObj\":true},\"bargap\":0.05};",
"           Plotly.newPlot(\u00278873e259-de02-4ef3-9f22-9dffdba502b2\u0027, data, layout);",
"        \u003c/script\u003e",
"    \u003c/body\u003e",
"\u003c/html\u003e"]
        },
           "execution_count": null,
           "metadata": {},
           "output_type": "execute_result"
          }], 
           "source": ["chart5\n"]
          }
,
          {
           "cell_type": "markdown",
           "metadata": {},
           
           "source": ["Customizing Individual Bar Colors\n",
"---------------------------------\n"]
          }
,
          {
           "cell_type": "code",
           "metadata": {},
            "execution_count": 12, "outputs": [], 
           "source": ["let chart6 =\n",
"    Bar(\n",
"        x = [1; 2; 3; 4],\n",
"        y = [5; 4; -3; 2],\n",
"        marker = Marker(color = [\"#447adb\"; \"#447adb\"; \"#db5a44\"; \"#447adb\"])\n",
"    )\n",
"    |\u003e Chart.Plot\n",
"    |\u003e Chart.WithLayout hoverLayout\n",
"    |\u003e Chart.WithHeight 500\n",
"    |\u003e Chart.WithWidth 700\n"]
          }
,
          {
           "cell_type": "code",
           "metadata": {},
            "execution_count": null, "outputs": [
          {
           "data": {
            "text/html": ["\u003c!DOCTYPE html\u003e",
"\u003chtml\u003e",
"    \u003chead\u003e",
"        \u003cmeta charset=\"UTF-8\" /\u003e",
"        \u003cscript src=\"https://cdn.plot.ly/plotly-latest.min.js\"\u003e\u003c/script\u003e",
"    \u003c/head\u003e",
"    \u003cbody\u003e",
"        \u003cdiv id=\"c8ddb6e1-83e1-407d-9474-c9636b3a056c\" style=\"width: 700px; height: 500px;\"\u003e\u003c/div\u003e",
"        \u003cscript\u003e",
"            var data = [{\"type\":\"bar\",\"x\":[1,2,3,4],\"y\":[5,4,-3,2],\"marker\":{\"color\":[\"#447adb\",\"#447adb\",\"#db5a44\",\"#447adb\"]}}];",
"           var layout = {\"font\":{\"family\":\"Raleway, sans-serif\"},\"title\":\"Number of graphs made this week\",\"showlegend\":false,\"xaxis\":{\"tickangle\":-45.0,\"_isSubplotObj\":true},\"yaxis\":{\"gridwidth\":2.0,\"zeroline\":false,\"_isSubplotObj\":true},\"bargap\":0.05};",
"           Plotly.newPlot(\u0027c8ddb6e1-83e1-407d-9474-c9636b3a056c\u0027, data, layout);",
"        \u003c/script\u003e",
"    \u003c/body\u003e",
"\u003c/html\u003e"]
        },
           "execution_count": null,
           "metadata": {},
           "output_type": "execute_result"
          }], 
           "source": ["chart6\n"]
          }],
            "metadata": {
            "kernelspec": {"display_name": ".NET (F#)", "language": "F#", "name": ".net-fsharp"},
            "langauge_info": {
        "file_extension": ".fs",
        "mimetype": "text/x-fsharp",
        "name": "C#",
        "pygments_lexer": "fsharp",
        "version": "4.5"
        }
        },
            "nbformat": 4,
            "nbformat_minor": 1
        }
        

