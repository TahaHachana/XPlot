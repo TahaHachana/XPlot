
        {
            "cells": [
          {
           "cell_type": "code",
           "metadata": {},
            "execution_count": null, "outputs": [], 
           "source": ["#i \"nuget:https://pkgs.dev.azure.com/dnceng/public/_packaging/dotnet5/nuget/v3/index.json\"\n",
"#i \"nuget:https://pkgs.dev.azure.com/dnceng/public/_packaging/dotnet-tools/nuget/v3/index.json\"\n",
"#r \"nuget: XPlot.GoogleCharts\"\n"]
          }
,
          {
           "cell_type": "markdown",
           "metadata": {},
           
           "source": ["Google Histogram Chart\n",
"\n",
"[![Binder](https://mybinder.org/badge_logo.svg)](https://mybinder.org/v2/gh/fslaborg/XPlot/gh-pages?filepath=google-histogram-chart.ipynb)\n",
"\n"]
          }
,
          {
           "cell_type": "code",
           "metadata": {},
            "execution_count": 2, "outputs": [
          {
           "data": {
            "text/html": ["\u003c!DOCTYPE html\u003e",
"\u003chtml\u003e",
"    \u003chead\u003e",
"        \u003cmeta charset=\"UTF-8\"\u003e",
"        \u003cmeta http-equiv=\"X-UA-Compatible\" content=\"IE=edge\" /\u003e",
"        \u003ctitle\u003eGoogle Chart\u003c/title\u003e",
"        \u003cscript type=\"text/javascript\" src=\"https://www.gstatic.com/charts/loader.js\"\u003e\u003c/script\u003e",
"        \u003cscript type=\"text/javascript\"\u003e",
"            google.charts.load(\u0027current\u0027, {",
"              packages: [\"corechart\"]",
"            });",
"            google.charts.setOnLoadCallback(drawChart_ec94d2f0_c460_4ae9_bbb2_4eca32ab1796);",
"            function drawChart_ec94d2f0_c460_4ae9_bbb2_4eca32ab1796() {",
"                if (\"\")",
"                    google.visualization.mapsApiKey = \"\"",
"",
"                var data = new google.visualization.DataTable({\"cols\": [{\"type\": \"string\" ,\"id\": \"Column 1\" ,\"label\": \"Column 1\" }, {\"type\": \"number\" ,\"id\": \"Length\" ,\"label\": \"Length\" }], \"rows\" : [{\"c\" : [{\"v\": \"Acrocanthosaurus (top-spined lizard)\"}, {\"v\": 12.2}]}, {\"c\" : [{\"v\": \"Albertosaurus (Alberta lizard)\"}, {\"v\": 9.1}]}, {\"c\" : [{\"v\": \"Baryonyx (heavy claws)\"}, {\"v\": 9.1}]}, {\"c\" : [{\"v\": \"Ceratosaurus (horned lizard)\"}, {\"v\": 6.1}]}, {\"c\" : [{\"v\": \"Coelophysis (hollow form)\"}, {\"v\": 2.7}]}, {\"c\" : [{\"v\": \"Dromicelomimus (emu mimic)\"}, {\"v\": 3.4}]}, {\"c\" : [{\"v\": \"Mamenchisaurus (Mamenchi lizard)\"}, {\"v\": 21}]}, {\"c\" : [{\"v\": \"Megalosaurus (big lizard)\"}, {\"v\": 7.9}]}, {\"c\" : [{\"v\": \"Microvenator (small hunter)\"}, {\"v\": 1.2}]}, {\"c\" : [{\"v\": \"Oviraptor (egg robber)\"}, {\"v\": 1.5}]}, {\"c\" : [{\"v\": \"Sauronithoides (narrow-clawed lizard)\"}, {\"v\": 2}]}, {\"c\" : [{\"v\": \"Seismosaurus (tremor lizard)\"}, {\"v\": 45.7}]}, {\"c\" : [{\"v\": \"Supersaurus (super lizard)\"}, {\"v\": 30.5}]}, {\"c\" : [{\"v\": \"Ultrasaurus (ultra lizard)\"}, {\"v\": 30.5}]}, {\"c\" : [{\"v\": \"Velociraptor (swift robber)\"}, {\"v\": 1.8}]}]});",
"",
"                ",
"",
"                var options = {\"legend\":{\"position\":\"right\"},\"title\":\"Lengths of dinosaurs, in meters\"}",
"",
"                var chart = new google.visualization.Histogram(document.getElementById(\u0027ec94d2f0_c460_4ae9_bbb2_4eca32ab1796\u0027));",
"                chart.draw(data, options);",
"            }",
"        \u003c/script\u003e",
"    \u003c/head\u003e",
"    \u003cbody\u003e",
"        \u003cdiv id=\"ec94d2f0_c460_4ae9_bbb2_4eca32ab1796\" style=\"width: -1px; height: -1px;\"\u003e\u003c/div\u003e",
"    \u003c/body\u003e",
"\u003c/html\u003e"]
        },
           "execution_count": 2,
           "metadata": {},
           "output_type": "execute_result"
          }], 
           "source": ["open XPlot.GoogleCharts\n",
"\n",
"let data =\n",
"    [\n",
"        \"Acrocanthosaurus (top-spined lizard)\", 12.2\n",
"        \"Albertosaurus (Alberta lizard)\", 9.1\n",
"        \"Baryonyx (heavy claws)\", 9.1\n",
"        \"Ceratosaurus (horned lizard)\", 6.1\n",
"        \"Coelophysis (hollow form)\", 2.7\n",
"        \"Dromicelomimus (emu mimic)\", 3.4\n",
"        \"Mamenchisaurus (Mamenchi lizard)\", 21.0\n",
"        \"Megalosaurus (big lizard)\", 7.9\n",
"        \"Microvenator (small hunter)\", 1.2\n",
"        \"Oviraptor (egg robber)\", 1.5\n",
"        \"Sauronithoides (narrow-clawed lizard)\", 2.0\n",
"        \"Seismosaurus (tremor lizard)\", 45.7\n",
"        \"Supersaurus (super lizard)\", 30.5\n",
"        \"Ultrasaurus (ultra lizard)\", 30.5\n",
"        \"Velociraptor (swift robber)\", 1.8\n",
"    ]\n",
"\n",
"let options = Options(title = \"Lengths of dinosaurs, in meters\")\n",
"\n",
"let chart =\n",
"    data\n",
"    |\u003e Chart.Histogram\n",
"    |\u003e Chart.WithOptions options\n",
"    |\u003e Chart.WithLabel \"Length\"\n"]
          }],
            "metadata": {
            "kernelspec": {"display_name": ".NET (F#)", "language": "F#", "name": ".net-fsharp"},
            "langauge_info": {
        "file_extension": ".fs",
        "mimetype": "text/x-fsharp",
        "name": "C#",
        "pygments_lexer": "fsharp",
        "version": "4.5"
        }
        },
            "nbformat": 4,
            "nbformat_minor": 1
        }
        

