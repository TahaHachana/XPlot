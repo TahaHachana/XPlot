
        {
            "cells": [
          {
           "cell_type": "code",
           "metadata": {},
            "execution_count": null, "outputs": [], 
           "source": ["#i \"nuget:https://pkgs.dev.azure.com/dnceng/public/_packaging/dotnet5/nuget/v3/index.json\"\n",
"#i \"nuget:https://pkgs.dev.azure.com/dnceng/public/_packaging/dotnet-tools/nuget/v3/index.json\"\n",
"#r \"nuget: XPlot.GoogleCharts\"\n"]
          }
,
          {
           "cell_type": "markdown",
           "metadata": {},
           
           "source": ["Google Candlestick Chart\n",
"\n",
"[![Binder](https://mybinder.org/badge_logo.svg)](https://mybinder.org/v2/gh/fslaborg/XPlot/gh-pages?filepath=google-candlestick-chart.ipynb)\n",
"\n"]
          }
,
          {
           "cell_type": "code",
           "metadata": {},
            "execution_count": 2, "outputs": [
          {
           "data": {
            "text/html": ["\u003c!DOCTYPE html\u003e",
"\u003chtml\u003e",
"    \u003chead\u003e",
"        \u003cmeta charset=\"UTF-8\"\u003e",
"        \u003cmeta http-equiv=\"X-UA-Compatible\" content=\"IE=edge\" /\u003e",
"        \u003ctitle\u003eGoogle Chart\u003c/title\u003e",
"        \u003cscript type=\"text/javascript\" src=\"https://www.gstatic.com/charts/loader.js\"\u003e\u003c/script\u003e",
"        \u003cscript type=\"text/javascript\"\u003e",
"            google.charts.load(\u0027current\u0027, {",
"              packages: [\"corechart\"]",
"            });",
"            google.charts.setOnLoadCallback(drawChart_e58491a7_66bf_4929_982c_1391026eb9fe);",
"            function drawChart_e58491a7_66bf_4929_982c_1391026eb9fe() {",
"                if (\"\")",
"                    google.visualization.mapsApiKey = \"\"",
"",
"                var data = new google.visualization.DataTable({\"cols\": [{\"type\": \"string\" ,\"id\": \"Column 1\" ,\"label\": \"Column 1\" }, {\"type\": \"number\" ,\"id\": \"Column 2\" ,\"label\": \"Column 2\" }, {\"type\": \"number\" ,\"id\": \"Column 3\" ,\"label\": \"Column 3\" }, {\"type\": \"number\" ,\"id\": \"Column 4\" ,\"label\": \"Column 4\" }, {\"type\": \"number\" ,\"id\": \"Column 5\" ,\"label\": \"Column 5\" }], \"rows\" : [{\"c\" : [{\"v\": \"Mon\"}, {\"v\": 20}, {\"v\": 28}, {\"v\": 38}, {\"v\": 45}]}, {\"c\" : [{\"v\": \"Tue\"}, {\"v\": 31}, {\"v\": 38}, {\"v\": 55}, {\"v\": 66}]}, {\"c\" : [{\"v\": \"Wed\"}, {\"v\": 50}, {\"v\": 55}, {\"v\": 77}, {\"v\": 80}]}, {\"c\" : [{\"v\": \"Thu\"}, {\"v\": 77}, {\"v\": 77}, {\"v\": 66}, {\"v\": 50}]}, {\"c\" : [{\"v\": \"Fri\"}, {\"v\": 68}, {\"v\": 66}, {\"v\": 22}, {\"v\": 15}]}]});",
"",
"                ",
"",
"                var options = {\"legend\":{\"position\":\"none\"}}",
"",
"                var chart = new google.visualization.CandlestickChart(document.getElementById(\u0027e58491a7_66bf_4929_982c_1391026eb9fe\u0027));",
"                chart.draw(data, options);",
"            }",
"        \u003c/script\u003e",
"    \u003c/head\u003e",
"    \u003cbody\u003e",
"        \u003cdiv id=\"e58491a7_66bf_4929_982c_1391026eb9fe\" style=\"width: -1px; height: -1px;\"\u003e\u003c/div\u003e",
"    \u003c/body\u003e",
"\u003c/html\u003e"]
        },
           "execution_count": 2,
           "metadata": {},
           "output_type": "execute_result"
          }], 
           "source": ["open XPlot.GoogleCharts\n",
"\n",
"let data =\n",
"    [\n",
"        \"Mon\", 20, 28, 38, 45\n",
"        \"Tue\", 31, 38, 55, 66\n",
"        \"Wed\", 50, 55, 77, 80\n",
"        \"Thu\", 77, 77, 66, 50\n",
"        \"Fri\", 68, 66, 22, 15\n",
"    ]\n",
"\n",
"let chart = Chart.Candlestick data\n"]
          }],
            "metadata": {
            "kernelspec": {"display_name": ".NET (F#)", "language": "F#", "name": ".net-fsharp"},
            "langauge_info": {
        "file_extension": ".fs",
        "mimetype": "text/x-fsharp",
        "name": "C#",
        "pygments_lexer": "fsharp",
        "version": "4.5"
        }
        },
            "nbformat": 4,
            "nbformat_minor": 1
        }
        

