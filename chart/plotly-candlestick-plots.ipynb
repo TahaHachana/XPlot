
        {
            "cells": [
          {
           "cell_type": "code",
           "metadata": {},
            "execution_count": null, "outputs": [], 
           "source": ["#i \"nuget:https://pkgs.dev.azure.com/dnceng/public/_packaging/dotnet5/nuget/v3/index.json\"\n",
"#i \"nuget:https://pkgs.dev.azure.com/dnceng/public/_packaging/dotnet-tools/nuget/v3/index.json\"\n",
"#r \"nuget: XPlot.Plotly\"\n",
"#r \"nuget: XPlot.Plotly.Interactive\"\n"]
          }
,
          {
           "cell_type": "markdown",
           "metadata": {},
           
           "source": ["Plotly Candlestick Chart\n",
"\n",
"[![Binder](https://mybinder.org/badge_logo.svg)](https://mybinder.org/v2/gh/fslaborg/XPlot/gh-pages?filepath=plotly-candlestick-plots.ipynb)\n",
"\n"]
          }
,
          {
           "cell_type": "code",
           "metadata": {},
            "execution_count": 2, "outputs": [], 
           "source": ["open XPlot.Plotly\n",
"open System\n",
"\n",
"let data =\n",
"    [\n",
"         // x,  o,  h,  l,  c\n",
"        \"Mon\", 28, 45, 20, 38\n",
"        \"Tue\", 38, 66, 31, 55\n",
"        \"Wed\", 55, 80, 50, 77\n",
"        \"Thu\", 77, 77, 50, 66\n",
"        \"Fri\", 66, 68, 15, 22\n",
"    ]\n",
"\n",
"let chart1 = Chart.Candlestick data\n"]
          }
,
          {
           "cell_type": "code",
           "metadata": {},
            "execution_count": null, "outputs": [
          {
           "data": {
            "text/html": ["\u003c!DOCTYPE html\u003e",
"\u003chtml\u003e",
"    \u003chead\u003e",
"        \u003cmeta charset=\"UTF-8\" /\u003e",
"        \u003cscript src=\"https://cdn.plot.ly/plotly-latest.min.js\"\u003e\u003c/script\u003e",
"    \u003c/head\u003e",
"    \u003cbody\u003e",
"        \u003cdiv id=\"dba994db-cb12-4827-a44e-5207a3b5c220\" style=\"width: 900px; height: 500px;\"\u003e\u003c/div\u003e",
"        \u003cscript\u003e",
"            var data = [{\"type\":\"candlestick\",\"showlegend\":false,\"x\":[\"Mon\",\"Tue\",\"Wed\",\"Thu\",\"Fri\"],\"open\":[28,38,55,77,66],\"high\":[45,66,80,77,68],\"low\":[20,31,50,50,15],\"close\":[38,55,77,66,22]}];",
"           var layout = \"\";",
"           Plotly.newPlot(\u0027dba994db-cb12-4827-a44e-5207a3b5c220\u0027, data, layout);",
"        \u003c/script\u003e",
"    \u003c/body\u003e",
"\u003c/html\u003e"]
        },
           "execution_count": null,
           "metadata": {},
           "output_type": "execute_result"
          }], 
           "source": ["chart1\n"]
          }
,
          {
           "cell_type": "code",
           "metadata": {},
            "execution_count": 4, "outputs": [], 
           "source": ["let ``XAU USD D1`` =\n",
"    [\n",
"                 // x,       o,       h,       l,       c\n",
"        DateTime(2017, 12, 27), 1282.19, 1289.01, 1281.43, 1287.67\n",
"        DateTime(2017, 12, 26), 1278.35, 1283.80, 1277.22, 1282.18\n",
"        DateTime(2017, 12, 22), 1267.07, 1276.08, 1265.07, 1274.97\n",
"        DateTime(2017, 12, 21), 1266.53, 1268.99, 1263.20, 1267.05\n",
"        DateTime(2017, 12, 20), 1261.80, 1267.92, 1261.53, 1266.55\n",
"        DateTime(2017, 12, 19), 1261.54, 1265.32, 1259.34, 1261.78\n",
"        DateTime(2017, 12, 18), 1253.91, 1263.99, 1252.85, 1261.51\n",
"        DateTime(2017, 12, 15), 1253.62, 1261.88, 1253.18, 1255.20\n",
"        DateTime(2017, 12, 14), 1254.05, 1259.14, 1250.58, 1253.62\n",
"        DateTime(2017, 12, 13), 1243.58, 1256.93, 1240.36, 1254.09\n",
"        DateTime(2017, 12, 12), 1242.90, 1246.29, 1236.59, 1243.48\n",
"        DateTime(2017, 12, 11), 1248.63, 1251.59, 1240.89, 1242.91\n",
"        DateTime(2017, 12, 08), 1247.15, 1252.41, 1244.18, 1248.56\n",
"        DateTime(2017, 12, 07), 1264.03, 1264.17, 1244.06, 1247.16\n",
"        DateTime(2017, 12, 06), 1266.32, 1269.25, 1262.63, 1264.14\n",
"        DateTime(2017, 12, 05), 1276.61, 1277.06, 1261.11, 1266.24\n",
"        DateTime(2017, 12, 04), 1273.93, 1277.17, 1271.41, 1276.61\n",
"        DateTime(2017, 12, 01), 1275.00, 1289.24, 1271.72, 1280.40\n",
"        DateTime(2017, 11, 30), 1284.15, 1285.36, 1270.43, 1275.03\n",
"        DateTime(2017, 11, 29), 1294.07, 1296.75, 1282.18, 1284.16\n",
"        DateTime(2017, 11, 28), 1294.59, 1297.48, 1290.95, 1294.06\n",
"        DateTime(2017, 11, 27), 1287.47, 1299.29, 1286.80, 1294.56\n",
"    ]\n",
"\n",
"let chart2 =\n",
"    ``XAU USD D1``\n",
"    |\u003e Seq.sortBy (fun (x,_,_,_,_) -\u003e x)\n",
"    |\u003e Chart.Candlestick\n"]
          }
,
          {
           "cell_type": "code",
           "metadata": {},
            "execution_count": null, "outputs": [
          {
           "data": {
            "text/html": ["\u003c!DOCTYPE html\u003e",
"\u003chtml\u003e",
"    \u003chead\u003e",
"        \u003cmeta charset=\"UTF-8\" /\u003e",
"        \u003cscript src=\"https://cdn.plot.ly/plotly-latest.min.js\"\u003e\u003c/script\u003e",
"    \u003c/head\u003e",
"    \u003cbody\u003e",
"        \u003cdiv id=\"1da3bf6a-a487-4725-b2ed-754ec214bab0\" style=\"width: 900px; height: 500px;\"\u003e\u003c/div\u003e",
"        \u003cscript\u003e",
"            var data = [{\"type\":\"candlestick\",\"showlegend\":false,\"x\":[\"2017-11-27T00:00:00\",\"2017-11-28T00:00:00\",\"2017-11-29T00:00:00\",\"2017-11-30T00:00:00\",\"2017-12-01T00:00:00\",\"2017-12-04T00:00:00\",\"2017-12-05T00:00:00\",\"2017-12-06T00:00:00\",\"2017-12-07T00:00:00\",\"2017-12-08T00:00:00\",\"2017-12-11T00:00:00\",\"2017-12-12T00:00:00\",\"2017-12-13T00:00:00\",\"2017-12-14T00:00:00\",\"2017-12-15T00:00:00\",\"2017-12-18T00:00:00\",\"2017-12-19T00:00:00\",\"2017-12-20T00:00:00\",\"2017-12-21T00:00:00\",\"2017-12-22T00:00:00\",\"2017-12-26T00:00:00\",\"2017-12-27T00:00:00\"],\"open\":[1287.47,1294.59,1294.07,1284.15,1275.0,1273.93,1276.61,1266.32,1264.03,1247.15,1248.63,1242.9,1243.58,1254.05,1253.62,1253.91,1261.54,1261.8,1266.53,1267.07,1278.35,1282.19],\"high\":[1299.29,1297.48,1296.75,1285.36,1289.24,1277.17,1277.06,1269.25,1264.17,1252.41,1251.59,1246.29,1256.93,1259.14,1261.88,1263.99,1265.32,1267.92,1268.99,1276.08,1283.8,1289.01],\"low\":[1286.8,1290.95,1282.18,1270.43,1271.72,1271.41,1261.11,1262.63,1244.06,1244.18,1240.89,1236.59,1240.36,1250.58,1253.18,1252.85,1259.34,1261.53,1263.2,1265.07,1277.22,1281.43],\"close\":[1294.56,1294.06,1284.16,1275.03,1280.4,1276.61,1266.24,1264.14,1247.16,1248.56,1242.91,1243.48,1254.09,1253.62,1255.2,1261.51,1261.78,1266.55,1267.05,1274.97,1282.18,1287.67]}];",
"           var layout = \"\";",
"           Plotly.newPlot(\u00271da3bf6a-a487-4725-b2ed-754ec214bab0\u0027, data, layout);",
"        \u003c/script\u003e",
"    \u003c/body\u003e",
"\u003c/html\u003e"]
        },
           "execution_count": null,
           "metadata": {},
           "output_type": "execute_result"
          }], 
           "source": ["chart2\n"]
          }],
            "metadata": {
            "kernelspec": {"display_name": ".NET (F#)", "language": "F#", "name": ".net-fsharp"},
            "langauge_info": {
        "file_extension": ".fs",
        "mimetype": "text/x-fsharp",
        "name": "C#",
        "pygments_lexer": "fsharp",
        "version": "4.5"
        }
        },
            "nbformat": 4,
            "nbformat_minor": 1
        }
        

