
        {
            "cells": [
          {
           "cell_type": "code",
           "metadata": {},
            "execution_count": null, "outputs": [], 
           "source": ["#i \"nuget:https://pkgs.dev.azure.com/dnceng/public/_packaging/dotnet5/nuget/v3/index.json\"\n",
"#i \"nuget:https://pkgs.dev.azure.com/dnceng/public/_packaging/dotnet-tools/nuget/v3/index.json\"\n",
"#r \"nuget: XPlot.GoogleCharts\"\n"]
          }
,
          {
           "cell_type": "markdown",
           "metadata": {},
           
           "source": ["Google Timeline Chart\n",
"\n",
"[![Binder](https://mybinder.org/badge_logo.svg)](https://mybinder.org/v2/gh/fslaborg/XPlot/gh-pages?filepath=google-timeline-chart.ipynb)\n",
"\n"]
          }
,
          {
           "cell_type": "code",
           "metadata": {},
            "execution_count": 2, "outputs": [
          {
           "data": {
            "text/html": ["\u003c!DOCTYPE html\u003e",
"\u003chtml\u003e",
"    \u003chead\u003e",
"        \u003cmeta charset=\"UTF-8\"\u003e",
"        \u003cmeta http-equiv=\"X-UA-Compatible\" content=\"IE=edge\" /\u003e",
"        \u003ctitle\u003eGoogle Chart\u003c/title\u003e",
"        \u003cscript type=\"text/javascript\" src=\"https://www.gstatic.com/charts/loader.js\"\u003e\u003c/script\u003e",
"        \u003cscript type=\"text/javascript\"\u003e",
"            google.charts.load(\u0027current\u0027, {",
"              packages: [\"timeline\"]",
"            });",
"            google.charts.setOnLoadCallback(drawChart_43b3ad68_d87e_4d22_b964_9800bccc1c1c);",
"            function drawChart_43b3ad68_d87e_4d22_b964_9800bccc1c1c() {",
"                if (\"\")",
"                    google.visualization.mapsApiKey = \"\"",
"",
"                var data = new google.visualization.DataTable({\"cols\": [{\"type\": \"string\" ,\"id\": \"Column 1\" ,\"label\": \"Column 1\" }, {\"type\": \"datetime\" ,\"id\": \"Start\" ,\"label\": \"Start\" }, {\"type\": \"datetime\" ,\"id\": \"End\" ,\"label\": \"End\" }], \"rows\" : [{\"c\" : [{\"v\": \"Washington\"}, {\"v\": \"Date(1789, 3, 29, 0, 0, 0)\"}, {\"v\": \"Date(1797, 2, 3, 0, 0, 0)\"}]}, {\"c\" : [{\"v\": \"Adams\"}, {\"v\": \"Date(1797, 2, 3, 0, 0, 0)\"}, {\"v\": \"Date(1801, 2, 3, 0, 0, 0)\"}]}, {\"c\" : [{\"v\": \"Jefferson\"}, {\"v\": \"Date(1801, 2, 3, 0, 0, 0)\"}, {\"v\": \"Date(1809, 2, 3, 0, 0, 0)\"}]}]});",
"",
"                ",
"",
"                var options = {\"legend\":{\"position\":\"right\"}}",
"",
"                var chart = new google.visualization.Timeline(document.getElementById(\u002743b3ad68_d87e_4d22_b964_9800bccc1c1c\u0027));",
"                chart.draw(data, options);",
"            }",
"        \u003c/script\u003e",
"    \u003c/head\u003e",
"    \u003cbody\u003e",
"        \u003cdiv id=\"43b3ad68_d87e_4d22_b964_9800bccc1c1c\" style=\"width: -1px; height: -1px;\"\u003e\u003c/div\u003e",
"    \u003c/body\u003e",
"\u003c/html\u003e"]
        },
           "execution_count": 2,
           "metadata": {},
           "output_type": "execute_result"
          }], 
           "source": ["open XPlot.GoogleCharts\n",
"open System\n",
"\n",
"let data =\n",
"    [\n",
"        \"Washington\", DateTime(1789, 4, 29), DateTime(1797, 3, 3)\n",
"        \"Adams\", DateTime(1797, 3, 3), DateTime(1801, 3, 3)\n",
"        \"Jefferson\", DateTime(1801, 3, 3), DateTime(1809, 3, 3)\n",
"    ]\n",
"\n",
"let chart =\n",
"    data\n",
"    |\u003e Chart.Timeline\n",
"    |\u003e Chart.WithLabels [\"Start\"; \"End\"]\n"]
          }],
            "metadata": {
            "kernelspec": {"display_name": ".NET (F#)", "language": "F#", "name": ".net-fsharp"},
            "langauge_info": {
        "file_extension": ".fs",
        "mimetype": "text/x-fsharp",
        "name": "C#",
        "pygments_lexer": "fsharp",
        "version": "4.5"
        }
        },
            "nbformat": 4,
            "nbformat_minor": 1
        }
        

