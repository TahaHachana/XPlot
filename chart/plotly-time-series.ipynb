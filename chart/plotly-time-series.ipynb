
        {
            "cells": [
          {
           "cell_type": "code",
           "metadata": {},
            "execution_count": null, "outputs": [], 
           "source": ["#i \"nuget:https://pkgs.dev.azure.com/dnceng/public/_packaging/dotnet5/nuget/v3/index.json\"\n",
"#i \"nuget:https://pkgs.dev.azure.com/dnceng/public/_packaging/dotnet-tools/nuget/v3/index.json\"\n",
"#r \"nuget: XPlot.Plotly\"\n",
"#r \"nuget: XPlot.Plotly.Interactive\"\n"]
          }
,
          {
           "cell_type": "markdown",
           "metadata": {},
           
           "source": ["Plotly Time Series\n",
"\n",
"[![Binder](https://mybinder.org/badge_logo.svg)](https://mybinder.org/v2/gh/fslaborg/XPlot/gh-pages?filepath=plotly-time-series.ipynb)\n",
"\n",
"Time Series Plot with DateTime Objects\n",
"--------------------------------------\n"]
          }
,
          {
           "cell_type": "code",
           "metadata": {},
            "execution_count": 2, "outputs": [], 
           "source": ["open System\n",
"open XPlot.Plotly\n",
"\n",
"let x =\n",
"    [\n",
"        DateTime(2013, 10, 4);\n",
"        DateTime(2013, 11, 5);\n",
"        DateTime(2013, 12, 6)\n",
"    ]\n",
"\n",
"let layout = Layout(title = \"Time Series Plot with datetime Objects\")\n",
"\n",
"let chart1 =\n",
"    Scatter(\n",
"        x = x,\n",
"        y = [1; 3; 6]\n",
"    )\n",
"    |\u003e Chart.Plot\n",
"    |\u003e Chart.WithLayout layout\n",
"    |\u003e Chart.WithWidth 700\n",
"    |\u003e Chart.WithHeight 500\n"]
          }
,
          {
           "cell_type": "code",
           "metadata": {},
            "execution_count": null, "outputs": [
          {
           "data": {
            "text/html": ["\u003c!DOCTYPE html\u003e",
"\u003chtml\u003e",
"    \u003chead\u003e",
"        \u003cmeta charset=\"UTF-8\" /\u003e",
"        \u003cscript src=\"https://cdn.plot.ly/plotly-latest.min.js\"\u003e\u003c/script\u003e",
"    \u003c/head\u003e",
"    \u003cbody\u003e",
"        \u003cdiv id=\"97796b4f-c2e3-4166-bb0e-b6467d38cacd\" style=\"width: 700px; height: 500px;\"\u003e\u003c/div\u003e",
"        \u003cscript\u003e",
"            var data = [{\"type\":\"scatter\",\"x\":[\"2013-10-04T00:00:00\",\"2013-11-05T00:00:00\",\"2013-12-06T00:00:00\"],\"y\":[1,3,6]}];",
"           var layout = {\"title\":\"Time Series Plot with datetime Objects\"};",
"           Plotly.newPlot(\u002797796b4f-c2e3-4166-bb0e-b6467d38cacd\u0027, data, layout);",
"        \u003c/script\u003e",
"    \u003c/body\u003e",
"\u003c/html\u003e"]
        },
           "execution_count": null,
           "metadata": {},
           "output_type": "execute_result"
          }], 
           "source": ["chart1\n"]
          }
,
          {
           "cell_type": "markdown",
           "metadata": {},
           
           "source": ["Date Strings\n",
"------------\n"]
          }
,
          {
           "cell_type": "code",
           "metadata": {},
            "execution_count": 4, "outputs": [], 
           "source": ["let stringLayout = Layout(title = \"Date Strings\")\n",
"\n",
"let chart2 =\n",
"    Scatter(\n",
"        x =\n",
"            [\"2013-10-04 22:23:00\";\n",
"                \"2013-11-04 22:23:00\";\n",
"                \"2013-12-04 22:23:00\"],\n",
"        y = [1; 3; 6]\n",
"    )\n",
"    |\u003e Chart.Plot\n",
"    |\u003e Chart.WithLayout stringLayout\n",
"    |\u003e Chart.WithWidth 700\n",
"    |\u003e Chart.WithHeight 500\n"]
          }
,
          {
           "cell_type": "code",
           "metadata": {},
            "execution_count": null, "outputs": [
          {
           "data": {
            "text/html": ["\u003c!DOCTYPE html\u003e",
"\u003chtml\u003e",
"    \u003chead\u003e",
"        \u003cmeta charset=\"UTF-8\" /\u003e",
"        \u003cscript src=\"https://cdn.plot.ly/plotly-latest.min.js\"\u003e\u003c/script\u003e",
"    \u003c/head\u003e",
"    \u003cbody\u003e",
"        \u003cdiv id=\"084e8301-98dd-4683-aa66-4ef362cd61b9\" style=\"width: 700px; height: 500px;\"\u003e\u003c/div\u003e",
"        \u003cscript\u003e",
"            var data = [{\"type\":\"scatter\",\"x\":[\"2013-10-04 22:23:00\",\"2013-11-04 22:23:00\",\"2013-12-04 22:23:00\"],\"y\":[1,3,6]}];",
"           var layout = {\"title\":\"Date Strings\"};",
"           Plotly.newPlot(\u0027084e8301-98dd-4683-aa66-4ef362cd61b9\u0027, data, layout);",
"        \u003c/script\u003e",
"    \u003c/body\u003e",
"\u003c/html\u003e"]
        },
           "execution_count": null,
           "metadata": {},
           "output_type": "execute_result"
          }], 
           "source": ["chart2\n"]
          }],
            "metadata": {
            "kernelspec": {"display_name": ".NET (F#)", "language": "F#", "name": ".net-fsharp"},
            "langauge_info": {
        "file_extension": ".fs",
        "mimetype": "text/x-fsharp",
        "name": "C#",
        "pygments_lexer": "fsharp",
        "version": "4.5"
        }
        },
            "nbformat": 4,
            "nbformat_minor": 1
        }
        

