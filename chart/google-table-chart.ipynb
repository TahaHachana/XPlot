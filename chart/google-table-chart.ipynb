
        {
            "cells": [
          {
           "cell_type": "code",
           "metadata": {},
            "execution_count": null, "outputs": [], 
           "source": ["#i \"nuget:https://pkgs.dev.azure.com/dnceng/public/_packaging/dotnet5/nuget/v3/index.json\"\n",
"#i \"nuget:https://pkgs.dev.azure.com/dnceng/public/_packaging/dotnet-tools/nuget/v3/index.json\"\n",
"#r \"nuget: XPlot.GoogleCharts\"\n"]
          }
,
          {
           "cell_type": "markdown",
           "metadata": {},
           
           "source": ["Google Table Chart\n",
"\n",
"[![Binder](https://mybinder.org/badge_logo.svg)](https://mybinder.org/v2/gh/fslaborg/XPlot/gh-pages?filepath=google-table-chart.ipynb)\n",
"\n"]
          }
,
          {
           "cell_type": "code",
           "metadata": {},
            "execution_count": 2, "outputs": [
          {
           "data": {
            "text/html": ["\u003c!DOCTYPE html\u003e",
"\u003chtml\u003e",
"    \u003chead\u003e",
"        \u003cmeta charset=\"UTF-8\"\u003e",
"        \u003cmeta http-equiv=\"X-UA-Compatible\" content=\"IE=edge\" /\u003e",
"        \u003ctitle\u003eGoogle Chart\u003c/title\u003e",
"        \u003cscript type=\"text/javascript\" src=\"https://www.gstatic.com/charts/loader.js\"\u003e\u003c/script\u003e",
"        \u003cscript type=\"text/javascript\"\u003e",
"            google.charts.load(\u0027current\u0027, {",
"              packages: [\"table\"]",
"            });",
"            google.charts.setOnLoadCallback(drawChart_48008019_b41b_4e8e_b5da_661e3d0b94da);",
"            function drawChart_48008019_b41b_4e8e_b5da_661e3d0b94da() {",
"                if (\"\")",
"                    google.visualization.mapsApiKey = \"\"",
"",
"                var data = new google.visualization.DataTable({\"cols\": [{\"type\": \"string\" ,\"id\": \"Name\" ,\"label\": \"Name\" }, {\"type\": \"number\" ,\"id\": \"Salary\" ,\"label\": \"Salary\" }, {\"type\": \"boolean\" ,\"id\": \"Full Time Employee\" ,\"label\": \"Full Time Employee\" }], \"rows\" : [{\"c\" : [{\"v\": \"Mike\"}, {\"v\": 10000}, {\"v\": true}]}, {\"c\" : [{\"v\": \"Jim\"}, {\"v\": 8000}, {\"v\": false}]}, {\"c\" : [{\"v\": \"Alice\"}, {\"v\": 12500}, {\"v\": true}]}, {\"c\" : [{\"v\": \"Bob\"}, {\"v\": 7000}, {\"v\": true}]}]});",
"",
"                ",
"",
"                var options = {\"legend\":{\"position\":\"right\"},\"showRowNumber\":true}",
"",
"                var chart = new google.visualization.Table(document.getElementById(\u002748008019_b41b_4e8e_b5da_661e3d0b94da\u0027));",
"                chart.draw(data, options);",
"            }",
"        \u003c/script\u003e",
"    \u003c/head\u003e",
"    \u003cbody\u003e",
"        \u003cdiv id=\"48008019_b41b_4e8e_b5da_661e3d0b94da\" style=\"width: -1px; height: -1px;\"\u003e\u003c/div\u003e",
"    \u003c/body\u003e",
"\u003c/html\u003e"]
        },
           "execution_count": 2,
           "metadata": {},
           "output_type": "execute_result"
          }], 
           "source": ["open XPlot.GoogleCharts\n",
"\n",
"let salary =\n",
"    [\n",
"        \"Mike\", 10000\n",
"        \"Jim\", 8000\n",
"        \"Alice\", 12500\n",
"        \"Bob\", 7000\n",
"    ]\n",
"    |\u003e List.map (fun (x, y) -\u003e x, y :\u003e value)\n",
"\n",
"let fulltime =\n",
"    [\n",
"        \"Mike\", true\n",
"        \"Jim\", false\n",
"        \"Alice\", true\n",
"        \"Bob\", true\n",
"    ]\n",
"    |\u003e List.map (fun (x, y) -\u003e x, y :\u003e value)\n",
"\n",
"let chart =\n",
"    [salary; fulltime]\n",
"    |\u003e Chart.Table\n",
"    |\u003e Chart.WithOptions(Options(showRowNumber = true))\n",
"    |\u003e Chart.WithLabels [\"Name\"; \"Salary\"; \"Full Time Employee\"]\n"]
          }],
            "metadata": {
            "kernelspec": {"display_name": ".NET (F#)", "language": "F#", "name": ".net-fsharp"},
            "langauge_info": {
        "file_extension": ".fs",
        "mimetype": "text/x-fsharp",
        "name": "C#",
        "pygments_lexer": "fsharp",
        "version": "4.5"
        }
        },
            "nbformat": 4,
            "nbformat_minor": 1
        }
        

