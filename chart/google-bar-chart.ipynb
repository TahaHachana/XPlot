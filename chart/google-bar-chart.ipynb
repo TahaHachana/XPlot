
        {
            "cells": [
          {
           "cell_type": "code",
           "metadata": {},
            "execution_count": null, "outputs": [], 
           "source": ["#i \"nuget:https://pkgs.dev.azure.com/dnceng/public/_packaging/dotnet5/nuget/v3/index.json\"\n",
"#i \"nuget:https://pkgs.dev.azure.com/dnceng/public/_packaging/dotnet-tools/nuget/v3/index.json\"\n",
"#r \"nuget: XPlot.GoogleCharts\"\n"]
          }
,
          {
           "cell_type": "markdown",
           "metadata": {},
           
           "source": ["Google Bar Chart\n",
"\n",
"[![Binder](https://mybinder.org/badge_logo.svg)](https://mybinder.org/v2/gh/fslaborg/XPlot/gh-pages?filepath=google-bar-chart.ipynb)\n",
"\n"]
          }
,
          {
           "cell_type": "code",
           "metadata": {},
            "execution_count": 2, "outputs": [
          {
           "data": {
            "text/html": ["\u003c!DOCTYPE html\u003e",
"\u003chtml\u003e",
"    \u003chead\u003e",
"        \u003cmeta charset=\"UTF-8\"\u003e",
"        \u003cmeta http-equiv=\"X-UA-Compatible\" content=\"IE=edge\" /\u003e",
"        \u003ctitle\u003eGoogle Chart\u003c/title\u003e",
"        \u003cscript type=\"text/javascript\" src=\"https://www.gstatic.com/charts/loader.js\"\u003e\u003c/script\u003e",
"        \u003cscript type=\"text/javascript\"\u003e",
"            google.charts.load(\u0027current\u0027, {",
"              packages: [\"corechart\"]",
"            });",
"            google.charts.setOnLoadCallback(drawChart_bbab5ae4_a5db_4fba_a57b_c28a17439a1c);",
"            function drawChart_bbab5ae4_a5db_4fba_a57b_c28a17439a1c() {",
"                if (\"\")",
"                    google.visualization.mapsApiKey = \"\"",
"",
"                var data = new google.visualization.DataTable({\"cols\": [{\"type\": \"string\" ,\"id\": \"Column 1\" ,\"label\": \"Column 1\" }, {\"type\": \"number\" ,\"id\": \"Sales\" ,\"label\": \"Sales\" }, {\"type\": \"number\" ,\"id\": \"Expenses\" ,\"label\": \"Expenses\" }], \"rows\" : [{\"c\" : [{\"v\": \"2013\"}, {\"v\": 1000}, {\"v\": 400}]}, {\"c\" : [{\"v\": \"2014\"}, {\"v\": 1170}, {\"v\": 460}]}, {\"c\" : [{\"v\": \"2015\"}, {\"v\": 660}, {\"v\": 1120}]}, {\"c\" : [{\"v\": \"2016\"}, {\"v\": 1030}, {\"v\": 540}]}]});",
"",
"                ",
"",
"                var options = {\"legend\":{\"position\":\"right\"},\"title\":\"Company Performance\",\"vAxis\":{\"title\":\"Year\",\"titleTextStyle\":{\"color\":\"red\"}}}",
"",
"                var chart = new google.visualization.BarChart(document.getElementById(\u0027bbab5ae4_a5db_4fba_a57b_c28a17439a1c\u0027));",
"                chart.draw(data, options);",
"            }",
"        \u003c/script\u003e",
"    \u003c/head\u003e",
"    \u003cbody\u003e",
"        \u003cdiv id=\"bbab5ae4_a5db_4fba_a57b_c28a17439a1c\" style=\"width: -1px; height: -1px;\"\u003e\u003c/div\u003e",
"    \u003c/body\u003e",
"\u003c/html\u003e"]
        },
           "execution_count": 2,
           "metadata": {},
           "output_type": "execute_result"
          }], 
           "source": ["open XPlot.GoogleCharts\n",
"\n",
"let sales = [\"2013\", 1000; \"2014\", 1170; \"2015\", 660; \"2016\", 1030]\n",
"let expenses = [\"2013\", 400; \"2014\", 460; \"2015\", 1120; \"2016\", 540]\n",
"\n",
"let options =\n",
"    Options(\n",
"        title = \"Company Performance\",\n",
"        vAxis =\n",
"            Axis(\n",
"                title = \"Year\",\n",
"                titleTextStyle = TextStyle(color = \"red\")\n",
"            )\n",
"    )\n",
"\n",
"let chart =\n",
"    [sales; expenses]\n",
"    |\u003e Chart.Bar\n",
"    |\u003e Chart.WithOptions options\n",
"    |\u003e Chart.WithLabels [\"Sales\"; \"Expenses\"]\n"]
          }],
            "metadata": {
            "kernelspec": {"display_name": ".NET (F#)", "language": "F#", "name": ".net-fsharp"},
            "langauge_info": {
        "file_extension": ".fs",
        "mimetype": "text/x-fsharp",
        "name": "C#",
        "pygments_lexer": "fsharp",
        "version": "4.5"
        }
        },
            "nbformat": 4,
            "nbformat_minor": 1
        }
        

