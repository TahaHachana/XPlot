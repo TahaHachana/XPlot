
        {
            "cells": [
          {
           "cell_type": "code",
           "metadata": {},
            "execution_count": null, "outputs": [], 
           "source": ["#i \"nuget:https://pkgs.dev.azure.com/dnceng/public/_packaging/dotnet5/nuget/v3/index.json\"\n",
"#i \"nuget:https://pkgs.dev.azure.com/dnceng/public/_packaging/dotnet-tools/nuget/v3/index.json\"\n",
"#r \"nuget: XPlot.GoogleCharts\"\n"]
          }
,
          {
           "cell_type": "markdown",
           "metadata": {},
           
           "source": ["Google Geo charts\n",
"\n",
"[![Binder](https://mybinder.org/badge_logo.svg)](https://mybinder.org/v2/gh/fslaborg/XPlot/gh-pages?filepath=google-geo-chart.ipynb)\n",
"\n",
"This example shows how to create geo charts and line charts using the\n",
"`XPlot.GoogleCharts` library.\n",
"\n",
"To create a geo chart, use the `Chart.Geo` function. As usual, you can specify additional\n",
"options of the chart using `Chart.WithOptions` including properties such as title, legend\n",
"and so on. More interestingly, this also lets you specify color axis (for filling countries\n",
"with a range of colors) and it lets you provide the `region` parameter for displaying only\n",
"a part of the world.\n",
"\n",
"A simple geo chart\n",
"-------------------\n",
"\n",
"The following example calls `Chart.Geo` with a list of key value pairs. Google Charts\n",
"automatically recognize country names and country codes, so the following readable code\n",
"works just fine:\n"]
          }
,
          {
           "cell_type": "code",
           "metadata": {},
            "execution_count": 2, "outputs": [
          {
           "data": {
            "text/html": ["\u003c!DOCTYPE html\u003e",
"\u003chtml\u003e",
"    \u003chead\u003e",
"        \u003cmeta charset=\"UTF-8\"\u003e",
"        \u003cmeta http-equiv=\"X-UA-Compatible\" content=\"IE=edge\" /\u003e",
"        \u003ctitle\u003eGoogle Chart\u003c/title\u003e",
"        \u003cscript type=\"text/javascript\" src=\"https://www.gstatic.com/charts/loader.js\"\u003e\u003c/script\u003e",
"        \u003cscript type=\"text/javascript\"\u003e",
"            google.charts.load(\u0027current\u0027, {",
"              packages: [\"geochart\"]",
"            });",
"            google.charts.setOnLoadCallback(drawChart_7d765a58_24d4_4209_b5c9_ead8bd8c44f7);",
"            function drawChart_7d765a58_24d4_4209_b5c9_ead8bd8c44f7() {",
"                if (\"\")",
"                    google.visualization.mapsApiKey = \"\"",
"",
"                var data = new google.visualization.DataTable({\"cols\": [{\"type\": \"string\" ,\"id\": \"Column 1\" ,\"label\": \"Column 1\" }, {\"type\": \"number\" ,\"id\": \"Popularity\" ,\"label\": \"Popularity\" }], \"rows\" : [{\"c\" : [{\"v\": \"Germany\"}, {\"v\": 200}]}, {\"c\" : [{\"v\": \"United States\"}, {\"v\": 300}]}, {\"c\" : [{\"v\": \"Brazil\"}, {\"v\": 400}]}, {\"c\" : [{\"v\": \"Canada\"}, {\"v\": 500}]}, {\"c\" : [{\"v\": \"France\"}, {\"v\": 600}]}, {\"c\" : [{\"v\": \"RU\"}, {\"v\": 700}]}]});",
"",
"                ",
"",
"                var options = {\"legend\":{\"position\":\"right\"}}",
"",
"                var chart = new google.visualization.GeoChart(document.getElementById(\u00277d765a58_24d4_4209_b5c9_ead8bd8c44f7\u0027));",
"                chart.draw(data, options);",
"            }",
"        \u003c/script\u003e",
"    \u003c/head\u003e",
"    \u003cbody\u003e",
"        \u003cdiv id=\"7d765a58_24d4_4209_b5c9_ead8bd8c44f7\" style=\"width: -1px; height: -1px;\"\u003e\u003c/div\u003e",
"    \u003c/body\u003e",
"\u003c/html\u003e"]
        },
           "execution_count": 2,
           "metadata": {},
           "output_type": "execute_result"
          }], 
           "source": ["open XPlot.GoogleCharts\n",
"\n",
"let pop =\n",
"  [ \"Germany\", 200; \"United States\", 300\n",
"    \"Brazil\", 400;  \"Canada\", 500\n",
"    \"France\", 600;  \"RU\", 700 ]\n",
"\n",
"let chart =\n",
"    pop\n",
"    |\u003e Chart.Geo\n",
"    |\u003e Chart.WithLabel \"Popularity\"\n"]
          }],
            "metadata": {
            "kernelspec": {"display_name": ".NET (F#)", "language": "F#", "name": ".net-fsharp"},
            "langauge_info": {
        "file_extension": ".fs",
        "mimetype": "text/x-fsharp",
        "name": "C#",
        "pygments_lexer": "fsharp",
        "version": "4.5"
        }
        },
            "nbformat": 4,
            "nbformat_minor": 1
        }
        

