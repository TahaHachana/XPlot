
        {
            "cells": [
          {
           "cell_type": "code",
           "metadata": {},
            "execution_count": null, "outputs": [], 
           "source": ["#i \"nuget:https://pkgs.dev.azure.com/dnceng/public/_packaging/dotnet5/nuget/v3/index.json\"\n",
"#i \"nuget:https://pkgs.dev.azure.com/dnceng/public/_packaging/dotnet-tools/nuget/v3/index.json\"\n",
"#r \"nuget: XPlot.GoogleCharts\"\n"]
          }
,
          {
           "cell_type": "markdown",
           "metadata": {},
           
           "source": ["Google Combo Chart\n",
"\n",
"[![Binder](https://mybinder.org/badge_logo.svg)](https://mybinder.org/v2/gh/fslaborg/XPlot/gh-pages?filepath=google-combo-chart.ipynb)\n",
"\n"]
          }
,
          {
           "cell_type": "code",
           "metadata": {},
            "execution_count": 2, "outputs": [
          {
           "data": {
            "text/html": ["\u003c!DOCTYPE html\u003e",
"\u003chtml\u003e",
"    \u003chead\u003e",
"        \u003cmeta charset=\"UTF-8\"\u003e",
"        \u003cmeta http-equiv=\"X-UA-Compatible\" content=\"IE=edge\" /\u003e",
"        \u003ctitle\u003eGoogle Chart\u003c/title\u003e",
"        \u003cscript type=\"text/javascript\" src=\"https://www.gstatic.com/charts/loader.js\"\u003e\u003c/script\u003e",
"        \u003cscript type=\"text/javascript\"\u003e",
"            google.charts.load(\u0027current\u0027, {",
"              packages: [\"corechart\"]",
"            });",
"            google.charts.setOnLoadCallback(drawChart_ddc47936_732e_439a_aafe_37f0170fdcaf);",
"            function drawChart_ddc47936_732e_439a_aafe_37f0170fdcaf() {",
"                if (\"\")",
"                    google.visualization.mapsApiKey = \"\"",
"",
"                var data = new google.visualization.DataTable({\"cols\": [{\"type\": \"string\" ,\"id\": \"Column 1\" ,\"label\": \"Column 1\" }, {\"type\": \"number\" ,\"id\": \"Bolivia\" ,\"label\": \"Bolivia\" }, {\"type\": \"number\" ,\"id\": \"Ecuador\" ,\"label\": \"Ecuador\" }, {\"type\": \"number\" ,\"id\": \"Madagascar\" ,\"label\": \"Madagascar\" }, {\"type\": \"number\" ,\"id\": \"Papua New Guinea\" ,\"label\": \"Papua New Guinea\" }, {\"type\": \"number\" ,\"id\": \"Rwanda\" ,\"label\": \"Rwanda\" }, {\"type\": \"number\" ,\"id\": \"Average\" ,\"label\": \"Average\" }], \"rows\" : [{\"c\" : [{\"v\": \"2004/05\"}, {\"v\": 165}, {\"v\": 938}, {\"v\": 522}, {\"v\": 998}, {\"v\": 450}, {\"v\": 614.6}]}, {\"c\" : [{\"v\": \"2005/06\"}, {\"v\": 135}, {\"v\": 1120}, {\"v\": 599}, {\"v\": 1268}, {\"v\": 288}, {\"v\": 682}]}, {\"c\" : [{\"v\": \"2006/07\"}, {\"v\": 157}, {\"v\": 1167}, {\"v\": 587}, {\"v\": 807}, {\"v\": 397}, {\"v\": 623}]}, {\"c\" : [{\"v\": \"2007/08\"}, {\"v\": 139}, {\"v\": 1110}, {\"v\": 615}, {\"v\": 968}, {\"v\": 215}, {\"v\": 609.4}]}, {\"c\" : [{\"v\": \"2008/09\"}, {\"v\": 136}, {\"v\": 691}, {\"v\": 629}, {\"v\": 1026}, {\"v\": 366}, {\"v\": 569.6}]}]});",
"",
"                ",
"",
"                var options = {\"hAxis\":{\"title\":\"Month\"},\"legend\":{\"position\":\"right\"},\"series\":[{\"type\":\"bars\"},{\"type\":\"bars\"},{\"type\":\"bars\"},{\"type\":\"bars\"},{\"type\":\"bars\"},{\"type\":\"line\"}],\"title\":\"Monthly Coffee Production by Country\",\"vAxis\":{\"title\":\"Cups\"},\"seriesType\":\"bars\"}",
"",
"                var chart = new google.visualization.ComboChart(document.getElementById(\u0027ddc47936_732e_439a_aafe_37f0170fdcaf\u0027));",
"                chart.draw(data, options);",
"            }",
"        \u003c/script\u003e",
"    \u003c/head\u003e",
"    \u003cbody\u003e",
"        \u003cdiv id=\"ddc47936_732e_439a_aafe_37f0170fdcaf\" style=\"width: -1px; height: -1px;\"\u003e\u003c/div\u003e",
"    \u003c/body\u003e",
"\u003c/html\u003e"]
        },
           "execution_count": 2,
           "metadata": {},
           "output_type": "execute_result"
          }], 
           "source": ["open XPlot.GoogleCharts\n",
"\n",
"let Bolivia = [\"2004/05\", 165.; \"2005/06\", 135.; \"2006/07\", 157.; \"2007/08\", 139.; \"2008/09\", 136.]\n",
"let Ecuador = [\"2004/05\", 938.; \"2005/06\", 1120.; \"2006/07\", 1167.; \"2007/08\", 1110.; \"2008/09\", 691.]\n",
"let Madagascar = [\"2004/05\", 522.; \"2005/06\", 599.; \"2006/07\", 587.; \"2007/08\", 615.; \"2008/09\", 629.]\n",
"let ``Papua New Guinea`` = [\"2004/05\", 998.; \"2005/06\", 1268.; \"2006/07\", 807.; \"2007/08\", 968.; \"2008/09\", 1026.]\n",
"let Rwanda = [\"2004/05\", 450.; \"2005/06\", 288.; \"2006/07\", 397.; \"2007/08\", 215.; \"2008/09\", 366.]\n",
"let Average = [\"2004/05\", 614.6; \"2005/06\", 682.; \"2006/07\", 623.; \"2007/08\", 609.4; \"2008/09\", 569.6]\n",
"\n",
"let options =\n",
"    Options(\n",
"        title = \"Monthly Coffee Production by Country\",\n",
"        vAxis = Axis(title = \"Cups\"),\n",
"        hAxis = Axis(title = \"Month\"),\n",
"        seriesType = \"bars\",\n",
"        series =\n",
"            [|\n",
"                for _ in 0 .. 4 -\u003e Series(``type`` = \"bars\")\n",
"                yield Series(``type`` = \"line\")\n",
"            |]\n",
"    )\n",
"\n",
"let chart =\n",
"    [Bolivia; Ecuador; Madagascar; ``Papua New Guinea``; Rwanda; Average]\n",
"    |\u003e Chart.Combo\n",
"    |\u003e Chart.WithOptions options\n",
"    |\u003e Chart.WithLabels [\"Bolivia\"; \"Ecuador\"; \"Madagascar\"; \"Papua New Guinea\"; \"Rwanda\"; \"Average\"]\n"]
          }],
            "metadata": {
            "kernelspec": {"display_name": ".NET (F#)", "language": "F#", "name": ".net-fsharp"},
            "langauge_info": {
        "file_extension": ".fs",
        "mimetype": "text/x-fsharp",
        "name": "C#",
        "pygments_lexer": "fsharp",
        "version": "4.5"
        }
        },
            "nbformat": 4,
            "nbformat_minor": 1
        }
        

