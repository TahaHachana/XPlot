
        {
            "cells": [
          {
           "cell_type": "code",
           "metadata": {},
            "execution_count": null, "outputs": [], 
           "source": ["#i \"nuget:https://pkgs.dev.azure.com/dnceng/public/_packaging/dotnet5/nuget/v3/index.json\"\n",
"#i \"nuget:https://pkgs.dev.azure.com/dnceng/public/_packaging/dotnet-tools/nuget/v3/index.json\"\n",
"#r \"nuget: XPlot.GoogleCharts\"\n"]
          }
,
          {
           "cell_type": "markdown",
           "metadata": {},
           
           "source": ["Google Map Chart\n",
"\n",
"[![Binder](https://mybinder.org/badge_logo.svg)](https://mybinder.org/v2/gh/fslaborg/XPlot/gh-pages?filepath=google-map-chart.ipynb)\n",
"\n"]
          }
,
          {
           "cell_type": "code",
           "metadata": {},
            "execution_count": 2, "outputs": [
          {
           "data": {
            "text/html": ["\u003c!DOCTYPE html\u003e",
"\u003chtml\u003e",
"    \u003chead\u003e",
"        \u003cmeta charset=\"UTF-8\"\u003e",
"        \u003cmeta http-equiv=\"X-UA-Compatible\" content=\"IE=edge\" /\u003e",
"        \u003ctitle\u003eGoogle Chart\u003c/title\u003e",
"        \u003cscript type=\"text/javascript\" src=\"https://www.gstatic.com/charts/loader.js\"\u003e\u003c/script\u003e",
"        \u003cscript type=\"text/javascript\"\u003e",
"            google.charts.load(\u0027current\u0027, {",
"              packages: [\"map\"]",
"            });",
"            google.charts.setOnLoadCallback(drawChart_3b5aef8a_554f_47a1_9589_ba503af383e6);",
"            function drawChart_3b5aef8a_554f_47a1_9589_ba503af383e6() {",
"                if (\"\")",
"                    google.visualization.mapsApiKey = \"\"",
"",
"                var data = new google.visualization.DataTable({\"cols\": [{\"type\": \"string\" ,\"id\": \"Column 1\" ,\"label\": \"Column 1\" }, {\"type\": \"string\" ,\"id\": \"Column 2\" ,\"label\": \"Column 2\" }], \"rows\" : [{\"c\" : [{\"v\": \"China\"}, {\"v\": \"China: 1,363,800,000\"}]}, {\"c\" : [{\"v\": \"India\"}, {\"v\": \"India: 1,242,620,000\"}]}, {\"c\" : [{\"v\": \"US\"}, {\"v\": \"US: 317,842,000\"}]}, {\"c\" : [{\"v\": \"Indonesia\"}, {\"v\": \"Indonesia: 247,424,598\"}]}, {\"c\" : [{\"v\": \"Brazil\"}, {\"v\": \"Brazil: 201,032,714\"}]}, {\"c\" : [{\"v\": \"Pakistan\"}, {\"v\": \"Pakistan: 186,134,000\"}]}, {\"c\" : [{\"v\": \"Nigeria\"}, {\"v\": \"Nigeria: 173,615,000\"}]}, {\"c\" : [{\"v\": \"Bangladesh\"}, {\"v\": \"Bangladesh: 152,518,015\"}]}, {\"c\" : [{\"v\": \"Russia\"}, {\"v\": \"Russia: 146,019,512\"}]}, {\"c\" : [{\"v\": \"Japan\"}, {\"v\": \"Japan: 127,120,000\"}]}]});",
"",
"                ",
"",
"                var options = {\"legend\":{\"position\":\"none\"},\"showTip\":true}",
"",
"                var chart = new google.visualization.Map(document.getElementById(\u00273b5aef8a_554f_47a1_9589_ba503af383e6\u0027));",
"                chart.draw(data, options);",
"            }",
"        \u003c/script\u003e",
"    \u003c/head\u003e",
"    \u003cbody\u003e",
"        \u003cdiv id=\"3b5aef8a_554f_47a1_9589_ba503af383e6\" style=\"width: -1px; height: 420px;\"\u003e\u003c/div\u003e",
"    \u003c/body\u003e",
"\u003c/html\u003e"]
        },
           "execution_count": 2,
           "metadata": {},
           "output_type": "execute_result"
          }], 
           "source": ["open XPlot.GoogleCharts\n",
"\n",
"let data =\n",
"    [\n",
"        \"China\", \"China: 1,363,800,000\"\n",
"        \"India\", \"India: 1,242,620,000\"\n",
"        \"US\", \"US: 317,842,000\"\n",
"        \"Indonesia\", \"Indonesia: 247,424,598\"\n",
"        \"Brazil\", \"Brazil: 201,032,714\"\n",
"        \"Pakistan\", \"Pakistan: 186,134,000\"\n",
"        \"Nigeria\", \"Nigeria: 173,615,000\"\n",
"        \"Bangladesh\", \"Bangladesh: 152,518,015\"\n",
"        \"Russia\", \"Russia: 146,019,512\"\n",
"        \"Japan\", \"Japan: 127,120,000\"\n",
"    ]\n",
"\n",
"let options = Options(showTip = true)\n",
"\n",
"let chart =\n",
"    data\n",
"    |\u003e Chart.Map\n",
"    |\u003e Chart.WithOptions options\n",
"    |\u003e Chart.WithHeight 420\n"]
          }],
            "metadata": {
            "kernelspec": {"display_name": ".NET (F#)", "language": "F#", "name": ".net-fsharp"},
            "langauge_info": {
        "file_extension": ".fs",
        "mimetype": "text/x-fsharp",
        "name": "C#",
        "pygments_lexer": "fsharp",
        "version": "4.5"
        }
        },
            "nbformat": 4,
            "nbformat_minor": 1
        }
        

