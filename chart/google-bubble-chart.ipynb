
        {
            "cells": [
          {
           "cell_type": "code",
           "metadata": {},
            "execution_count": null, "outputs": [], 
           "source": ["#i \"nuget:https://pkgs.dev.azure.com/dnceng/public/_packaging/dotnet5/nuget/v3/index.json\"\n",
"#i \"nuget:https://pkgs.dev.azure.com/dnceng/public/_packaging/dotnet-tools/nuget/v3/index.json\"\n",
"#r \"nuget: XPlot.GoogleCharts\"\n"]
          }
,
          {
           "cell_type": "markdown",
           "metadata": {},
           
           "source": ["Google Bubble Chart\n",
"\n",
"[![Binder](https://mybinder.org/badge_logo.svg)](https://mybinder.org/v2/gh/fslaborg/XPlot/gh-pages?filepath=google-bubble-chart.ipynb)\n",
"\n"]
          }
,
          {
           "cell_type": "code",
           "metadata": {},
            "execution_count": 2, "outputs": [
          {
           "data": {
            "text/html": ["\u003c!DOCTYPE html\u003e",
"\u003chtml\u003e",
"    \u003chead\u003e",
"        \u003cmeta charset=\"UTF-8\"\u003e",
"        \u003cmeta http-equiv=\"X-UA-Compatible\" content=\"IE=edge\" /\u003e",
"        \u003ctitle\u003eGoogle Chart\u003c/title\u003e",
"        \u003cscript type=\"text/javascript\" src=\"https://www.gstatic.com/charts/loader.js\"\u003e\u003c/script\u003e",
"        \u003cscript type=\"text/javascript\"\u003e",
"            google.charts.load(\u0027current\u0027, {",
"              packages: [\"corechart\"]",
"            });",
"            google.charts.setOnLoadCallback(drawChart_9ccee581_7b9e_4398_ad3d_d44765884e81);",
"            function drawChart_9ccee581_7b9e_4398_ad3d_d44765884e81() {",
"                if (\"\")",
"                    google.visualization.mapsApiKey = \"\"",
"",
"                var data = new google.visualization.DataTable({\"cols\": [{\"type\": \"string\" ,\"id\": \"Column 1\" ,\"label\": \"Column 1\" }, {\"type\": \"number\" ,\"id\": \"Life Expectancy\" ,\"label\": \"Life Expectancy\" }, {\"type\": \"number\" ,\"id\": \"Fertility Rat\" ,\"label\": \"Fertility Rat\" }, {\"type\": \"string\" ,\"id\": \"Region\" ,\"label\": \"Region\" }, {\"type\": \"number\" ,\"id\": \"Population\" ,\"label\": \"Population\" }], \"rows\" : [{\"c\" : [{\"v\": \"CAN\"}, {\"v\": 80.66}, {\"v\": 1.67}, {\"v\": \"North America\"}, {\"v\": 33739900}]}, {\"c\" : [{\"v\": \"DEU\"}, {\"v\": 79.84}, {\"v\": 1.36}, {\"v\": \"Europe\"}, {\"v\": 81902307}]}, {\"c\" : [{\"v\": \"DNK\"}, {\"v\": 78.6}, {\"v\": 1.84}, {\"v\": \"Europe\"}, {\"v\": 5523095}]}, {\"c\" : [{\"v\": \"EGY\"}, {\"v\": 72.73}, {\"v\": 2.78}, {\"v\": \"Middle East\"}, {\"v\": 79716203}]}, {\"c\" : [{\"v\": \"GBR\"}, {\"v\": 80.05}, {\"v\": 2}, {\"v\": \"Europe\"}, {\"v\": 61801570}]}, {\"c\" : [{\"v\": \"RUS\"}, {\"v\": 68.6}, {\"v\": 1.54}, {\"v\": \"Europe\"}, {\"v\": 141850000}]}, {\"c\" : [{\"v\": \"USA\"}, {\"v\": 78.09}, {\"v\": 2.05}, {\"v\": \"North America\"}, {\"v\": 307007000}]}]});",
"",
"                ",
"",
"                var options = {\"hAxis\":{\"title\":\"Life Expectancy\"},\"legend\":{\"position\":\"right\"},\"title\":\"Correlation between life expectancy, fertility rate and population of some world countries (2010)\",\"vAxis\":{\"title\":\"Fertility Rate\"},\"bubble\":{\"textStyle\":{\"fontSize\":11}}}",
"",
"                var chart = new google.visualization.BubbleChart(document.getElementById(\u00279ccee581_7b9e_4398_ad3d_d44765884e81\u0027));",
"                chart.draw(data, options);",
"            }",
"        \u003c/script\u003e",
"    \u003c/head\u003e",
"    \u003cbody\u003e",
"        \u003cdiv id=\"9ccee581_7b9e_4398_ad3d_d44765884e81\" style=\"width: -1px; height: -1px;\"\u003e\u003c/div\u003e",
"    \u003c/body\u003e",
"\u003c/html\u003e"]
        },
           "execution_count": 2,
           "metadata": {},
           "output_type": "execute_result"
          }], 
           "source": ["open XPlot.GoogleCharts\n",
"\n",
"let data =\n",
"    [\n",
"        \"CAN\", 80.66, 1.67, \"North America\", 33739900\n",
"        \"DEU\", 79.84, 1.36, \"Europe\", 81902307\n",
"        \"DNK\", 78.6, 1.84, \"Europe\", 5523095\n",
"        \"EGY\", 72.73, 2.78, \"Middle East\", 79716203\n",
"        \"GBR\", 80.05, 2., \"Europe\", 61801570\n",
"        \"RUS\", 68.6, 1.54, \"Europe\", 141850000\n",
"        \"USA\", 78.09, 2.05, \"North America\", 307007000\n",
"    ]\n",
"\n",
"let options =\n",
"    Options(\n",
"        title = \"Correlation between life expectancy, fertility rate and population of some world countries (2010)\",\n",
"        hAxis = Axis(title = \"Life Expectancy\"),\n",
"        vAxis = Axis(title = \"Fertility Rate\"),\n",
"        bubble = Bubble(textStyle = TextStyle(fontSize = 11))\n",
"    )\n",
"\n",
"let chart =\n",
"    data\n",
"    |\u003e Chart.Bubble\n",
"    |\u003e Chart.WithOptions options\n",
"    |\u003e Chart.WithLabels [\"Life Expectancy\"; \"Fertility Rat\"; \"Region\"; \"Population\"]\n"]
          }],
            "metadata": {
            "kernelspec": {"display_name": ".NET (F#)", "language": "F#", "name": ".net-fsharp"},
            "langauge_info": {
        "file_extension": ".fs",
        "mimetype": "text/x-fsharp",
        "name": "C#",
        "pygments_lexer": "fsharp",
        "version": "4.5"
        }
        },
            "nbformat": 4,
            "nbformat_minor": 1
        }
        

