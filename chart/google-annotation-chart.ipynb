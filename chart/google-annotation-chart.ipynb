
        {
            "cells": [
          {
           "cell_type": "code",
           "metadata": {},
            "execution_count": null, "outputs": [], 
           "source": ["#i \"nuget:https://pkgs.dev.azure.com/dnceng/public/_packaging/dotnet5/nuget/v3/index.json\"\n",
"#i \"nuget:https://pkgs.dev.azure.com/dnceng/public/_packaging/dotnet-tools/nuget/v3/index.json\"\n",
"#r \"nuget: XPlot.GoogleCharts\"\n"]
          }
,
          {
           "cell_type": "markdown",
           "metadata": {},
           
           "source": ["Google Annotation Chart\n",
"[![Binder](https://mybinder.org/badge_logo.svg)](https://mybinder.org/v2/gh/fslaborg/XPlot/gh-pages?filepath=google-annotation-chart.ipynb)\n"]
          }
,
          {
           "cell_type": "code",
           "metadata": {},
            "execution_count": 2, "outputs": [
          {
           "data": {
            "text/html": ["\u003c!DOCTYPE html\u003e",
"\u003chtml\u003e",
"    \u003chead\u003e",
"        \u003cmeta charset=\"UTF-8\"\u003e",
"        \u003cmeta http-equiv=\"X-UA-Compatible\" content=\"IE=edge\" /\u003e",
"        \u003ctitle\u003eGoogle Chart\u003c/title\u003e",
"        \u003cscript type=\"text/javascript\" src=\"https://www.gstatic.com/charts/loader.js\"\u003e\u003c/script\u003e",
"        \u003cscript type=\"text/javascript\"\u003e",
"            google.charts.load(\u0027current\u0027, {",
"              packages: [\"annotationchart\"]",
"            });",
"            google.charts.setOnLoadCallback(drawChart_a7425eb5_055a_4f55_9688_14e509c60a32);",
"            function drawChart_a7425eb5_055a_4f55_9688_14e509c60a32() {",
"                if (\"\")",
"                    google.visualization.mapsApiKey = \"\"",
"",
"                var data = new google.visualization.DataTable({\"cols\": [{\"type\": \"datetime\" ,\"id\": \"Column 1\" ,\"label\": \"Column 1\" }, {\"type\": \"number\" ,\"id\": \"Kepler-22b mission\" ,\"label\": \"Kepler-22b mission\" }, {\"type\": \"string\" ,\"id\": \"Kepler-22b title\" ,\"label\": \"Kepler-22b title\" }, {\"type\": \"string\" ,\"id\": \"Kepler-22b text\" ,\"label\": \"Kepler-22b text\" }, {\"type\": \"number\" ,\"id\": \"Gliese 163 mission\" ,\"label\": \"Gliese 163 mission\" }, {\"type\": \"string\" ,\"id\": \"Gliese title\" ,\"label\": \"Gliese title\" }, {\"type\": \"string\" ,\"id\": \"Gliese text\" ,\"label\": \"Gliese text\" }], \"rows\" : [{\"c\" : [{\"v\": \"Date(2314, 2, 15, 0, 0, 0)\"}, {\"v\": 12400}, {\"v\": \"\"}, {\"v\": \"\"}, {\"v\": 10645}, {\"v\": \"\"}, {\"v\": \"\"}]}, {\"c\" : [{\"v\": \"Date(2314, 2, 16, 0, 0, 0)\"}, {\"v\": 24045}, {\"v\": \"Lalibertines\"}, {\"v\": \"First encounter\"}, {\"v\": 12374}, {\"v\": \"\"}, {\"v\": \"\"}]}, {\"c\" : [{\"v\": \"Date(2314, 2, 17, 0, 0, 0)\"}, {\"v\": 35022}, {\"v\": \"Lalibertines\"}, {\"v\": \"They are very tall\"}, {\"v\": 15766}, {\"v\": \"Gallantors\"}, {\"v\": \"First Encounter\"}]}, {\"c\" : [{\"v\": \"Date(2314, 2, 18, 0, 0, 0)\"}, {\"v\": 12284}, {\"v\": \"Lalibertines\"}, {\"v\": \"Attack on our crew!\"}, {\"v\": 34334}, {\"v\": \"Gallantors\"}, {\"v\": \"Statement of shared principles\"}]}, {\"c\" : [{\"v\": \"Date(2314, 2, 19, 0, 0, 0)\"}, {\"v\": 8476}, {\"v\": \"Lalibertines\"}, {\"v\": \"Heavy casualties\"}, {\"v\": 66467}, {\"v\": \"Gallantors\"}, {\"v\": \"Mysteries revealed\"}]}, {\"c\" : [{\"v\": \"Date(2314, 2, 20, 0, 0, 0)\"}, {\"v\": 0}, {\"v\": \"Lalibertines\"}, {\"v\": \"All crew lost\"}, {\"v\": 79463}, {\"v\": \"Gallantors\"}, {\"v\": \"Omniscience achieved\"}]}]});",
"",
"                ",
"",
"                var options = {\"legend\":{\"position\":\"right\"},\"displayAnnotations\":true}",
"",
"                var chart = new google.visualization.AnnotationChart(document.getElementById(\u0027a7425eb5_055a_4f55_9688_14e509c60a32\u0027));",
"                chart.draw(data, options);",
"            }",
"        \u003c/script\u003e",
"    \u003c/head\u003e",
"    \u003cbody\u003e",
"        \u003cdiv id=\"a7425eb5_055a_4f55_9688_14e509c60a32\" style=\"width: -1px; height: -1px;\"\u003e\u003c/div\u003e",
"    \u003c/body\u003e",
"\u003c/html\u003e"]
        },
           "execution_count": 2,
           "metadata": {},
           "output_type": "execute_result"
          }], 
           "source": ["open XPlot.GoogleCharts\n",
"open System\n",
"\n",
"let kepler =\n",
"    [\n",
"        DateTime(2314, 3, 15), 12400, \"\", \"\"\n",
"        DateTime(2314, 3, 16), 24045, \"Lalibertines\", \"First encounter\"\n",
"        DateTime(2314, 3, 17), 35022, \"Lalibertines\", \"They are very tall\"\n",
"        DateTime(2314, 3, 18), 12284, \"Lalibertines\", \"Attack on our crew!\"\n",
"        DateTime(2314, 3, 19), 8476, \"Lalibertines\", \"Heavy casualties\"\n",
"        DateTime(2314, 3, 20), 0, \"Lalibertines\", \"All crew lost\"\n",
"    ]\n",
"\n",
"let gliese =\n",
"    [\n",
"        DateTime(2314, 3, 15), 10645, \"\", \"\"\n",
"        DateTime(2314, 3, 16), 12374, \"\", \"\"\n",
"        DateTime(2314, 3, 17), 15766, \"Gallantors\", \"First Encounter\"\n",
"        DateTime(2314, 3, 18), 34334, \"Gallantors\", \"Statement of shared principles\"\n",
"        DateTime(2314, 3, 19), 66467, \"Gallantors\", \"Mysteries revealed\"\n",
"        DateTime(2314, 3, 20), 79463, \"Gallantors\", \"Omniscience achieved\"\n",
"    ]\n",
"\n",
"let options = Options(displayAnnotations = true)\n",
"\n",
"let chart =\n",
"    [kepler; gliese]\n",
"    |\u003e Chart.Annotation\n",
"    |\u003e Chart.WithOptions options\n",
"    |\u003e Chart.WithLabels\n",
"        [\n",
"            \"Kepler-22b mission\"; \"Kepler-22b title\"; \"Kepler-22b text\"\n",
"            \"Gliese 163 mission\"; \"Gliese title\"; \"Gliese text\"\n",
"        ]\n"]
          }],
            "metadata": {
            "kernelspec": {"display_name": ".NET (F#)", "language": "F#", "name": ".net-fsharp"},
            "langauge_info": {
        "file_extension": ".fs",
        "mimetype": "text/x-fsharp",
        "name": "C#",
        "pygments_lexer": "fsharp",
        "version": "4.5"
        }
        },
            "nbformat": 4,
            "nbformat_minor": 1
        }
        

