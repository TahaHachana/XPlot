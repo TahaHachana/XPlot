
        {
            "cells": [
          {
           "cell_type": "code",
           "metadata": {},
            "execution_count": null, "outputs": [], 
           "source": ["#i \"nuget:https://pkgs.dev.azure.com/dnceng/public/_packaging/dotnet5/nuget/v3/index.json\"\n",
"#i \"nuget:https://pkgs.dev.azure.com/dnceng/public/_packaging/dotnet-tools/nuget/v3/index.json\"\n",
"#r \"nuget: XPlot.Plotly\"\n",
"#r \"nuget: XPlot.Plotly.Interactive\"\n"]
          }
,
          {
           "cell_type": "markdown",
           "metadata": {},
           
           "source": ["Plotly Box Plots\n",
"\n",
"[![Binder](https://mybinder.org/badge_logo.svg)](https://mybinder.org/v2/gh/fslaborg/XPlot/gh-pages?filepath=plotly-box-plots.ipynb)\n",
"\n",
"Basic Box Plot\n",
"--------------\n"]
          }
,
          {
           "cell_type": "code",
           "metadata": {},
            "execution_count": 2, "outputs": [], 
           "source": ["open System\n",
"open XPlot.Plotly\n",
"\n",
"let rnd = Random()\n",
"\n",
"let randn count min max =\n",
"    [1 .. count]\n",
"    |\u003e List.map (fun _ -\u003e rnd.NextDouble() * (max - min) + min)\n",
"\n",
"let y0 = randn 50 -1.86 1.67\n",
"let y1 = randn 50 -1.2 3.44\n",
"\n",
"let trace1 = Box(y = y0)\n",
"let trace2 = Box(y = y1)\n",
"\n",
"let chart1 =\n",
"    [trace1; trace2]\n",
"    |\u003e Chart.Plot\n",
"    |\u003e Chart.WithWidth 700\n",
"    |\u003e Chart.WithHeight 500\n"]
          }
,
          {
           "cell_type": "code",
           "metadata": {},
            "execution_count": null, "outputs": [
          {
           "data": {
            "text/html": ["\u003c!DOCTYPE html\u003e",
"\u003chtml\u003e",
"    \u003chead\u003e",
"        \u003cmeta charset=\"UTF-8\" /\u003e",
"        \u003cscript src=\"https://cdn.plot.ly/plotly-latest.min.js\"\u003e\u003c/script\u003e",
"    \u003c/head\u003e",
"    \u003cbody\u003e",
"        \u003cdiv id=\"0002ece4-6a2e-4fb6-bc18-8284c28888f3\" style=\"width: 700px; height: 500px;\"\u003e\u003c/div\u003e",
"        \u003cscript\u003e",
"            var data = [{\"type\":\"box\",\"y\":[-1.7491856147810751,-0.012067408404344171,1.4658334218830962,0.6553518003436511,1.3574717141350139,-1.5557564842168972,0.3463077800470906,0.7827001016320196,-0.6033588448135923,-0.4925365250476339,0.3446628236838911,0.00012076102202773775,-0.04733225694733312,-0.831489916546964,0.39391402666173625,-0.0027679187398255145,-0.44481566721332055,1.6151878597890905,0.861697826097579,1.1235944621793899,-0.22183036210100648,-1.6228048252327392,1.6391966435309484,0.5793516267646812,-1.2613722422818525,0.561411872353131,-0.7369551276587674,0.5824270502908282,-0.7731931787231905,-0.7399600574932808,-0.16710497918403955,-1.7900339499907727,1.0498949209507067,-1.1274880752654224,-1.4601507205144273,0.4281831133869398,0.9347067379088638,0.5844724522458729,0.3926281106065159,0.06312935078196658,-1.6621145585701405,0.6499060249980102,0.7334007801550444,0.23745680317629891,1.1523231524007038,-0.26695203689716385,-1.138943779319033,-0.6037233293353224,1.4211331673670247,-1.7811077769012693]},{\"type\":\"box\",\"y\":[3.1759699697308097,1.9447302221994522,-0.4149821440945297,0.21848732224595158,0.8911808103375047,3.2738790754945377,1.269499943065224,-0.03476613899449177,1.3194333024879141,-0.15362105782778057,2.3637285284901637,3.1296335937872684,0.8451401758776698,-1.0204448649196163,3.0122372881566344,1.6059470339519655,2.0601268832665527,0.2198082144464404,-0.37365831999744215,3.3949550814716867,2.207738694943366,2.0870547098326746,0.40699071847227897,-0.15032359051998867,2.461668514526294,2.294148205059649,0.3428912155809305,0.6425135578599355,2.6868589578042075,2.1328867555283413,1.0350283919996712,3.26487378350686,2.3375647639565003,0.12485091658534975,0.5362638357171152,2.520491561535975,2.7469488500556665,1.206417049768575,2.311667725290948,-0.5082981528846073,-0.6618031594631276,1.308261681174981,-0.5063023737567953,0.714582653639178,2.404124215880466,-0.6295235517944785,0.05399975499790144,2.0293342756616575,1.9847597562450725,-0.04640611974820774]}];",
"           var layout = \"\";",
"           Plotly.newPlot(\u00270002ece4-6a2e-4fb6-bc18-8284c28888f3\u0027, data, layout);",
"        \u003c/script\u003e",
"    \u003c/body\u003e",
"\u003c/html\u003e"]
        },
           "execution_count": null,
           "metadata": {},
           "output_type": "execute_result"
          }], 
           "source": ["chart1\n"]
          }
,
          {
           "cell_type": "markdown",
           "metadata": {},
           
           "source": ["Box Plot That Displays the Underlying Data\n",
"------------------------------------------\n"]
          }
,
          {
           "cell_type": "code",
           "metadata": {},
            "execution_count": 4, "outputs": [], 
           "source": ["let chart2 =\n",
"    Box(\n",
"        y = [0; 1; 1; 2; 3; 5; 8; 13; 21],\n",
"        boxpoints = \"all\",\n",
"        jitter = 0.3,\n",
"        pointpos = -1.8\n",
"    )\n",
"    |\u003e Chart.Plot\n",
"    |\u003e Chart.WithWidth 700\n",
"    |\u003e Chart.WithHeight 500\n"]
          }
,
          {
           "cell_type": "code",
           "metadata": {},
            "execution_count": null, "outputs": [
          {
           "data": {
            "text/html": ["\u003c!DOCTYPE html\u003e",
"\u003chtml\u003e",
"    \u003chead\u003e",
"        \u003cmeta charset=\"UTF-8\" /\u003e",
"        \u003cscript src=\"https://cdn.plot.ly/plotly-latest.min.js\"\u003e\u003c/script\u003e",
"    \u003c/head\u003e",
"    \u003cbody\u003e",
"        \u003cdiv id=\"55003fb2-bf72-40d9-b031-01daf72102f8\" style=\"width: 700px; height: 500px;\"\u003e\u003c/div\u003e",
"        \u003cscript\u003e",
"            var data = [{\"type\":\"box\",\"y\":[0,1,1,2,3,5,8,13,21],\"boxpoints\":\"all\",\"jitter\":0.3,\"pointpos\":-1.8}];",
"           var layout = \"\";",
"           Plotly.newPlot(\u002755003fb2-bf72-40d9-b031-01daf72102f8\u0027, data, layout);",
"        \u003c/script\u003e",
"    \u003c/body\u003e",
"\u003c/html\u003e"]
        },
           "execution_count": null,
           "metadata": {},
           "output_type": "execute_result"
          }], 
           "source": ["chart2\n"]
          }
,
          {
           "cell_type": "markdown",
           "metadata": {},
           
           "source": ["Grouped Box Plot\n",
"----------------\n"]
          }
,
          {
           "cell_type": "code",
           "metadata": {},
            "execution_count": 6, "outputs": [], 
           "source": ["let x = [\"day 1\"; \"day 1\"; \"day 1\"; \"day 1\"; \"day 1\"; \"day 1\";\n",
"        \"day 2\"; \"day 2\"; \"day 2\"; \"day 2\"; \"day 2\"; \"day 2\"]\n",
"\n",
"let groupedTrace1 =\n",
"    Box(\n",
"        y = [0.2; 0.2; 0.6; 1.0; 0.5; 0.4; 0.2; 0.7; 0.9; 0.1; 0.5; 0.3],\n",
"        x = x,\n",
"        name = \"kale\",\n",
"        marker = Marker(color = \"#3D9970\")\n",
"    )\n",
"\n",
"let groupedTrace2 =\n",
"    Box(\n",
"        y = [0.6; 0.7; 0.3; 0.6; 0.0; 0.5; 0.7; 0.9; 0.5; 0.8; 0.7; 0.2],\n",
"        x = x,\n",
"        name = \"radishes\",\n",
"        marker = Marker(color = \"#FF4136\")\n",
"    )\n",
"\n",
"let groupedTrace3 =\n",
"    Box(\n",
"        y = [0.1; 0.3; 0.1; 0.9; 0.6; 0.6; 0.9; 1.0; 0.3; 0.6; 0.8; 0.5],\n",
"        x = x,\n",
"        name = \"carrots\",\n",
"        marker = Marker(color = \"#FF851B\")\n",
"    )\n",
"\n",
"let layout =\n",
"    Layout(\n",
"        yaxis =\n",
"            Yaxis(\n",
"                title = \"normalized moisture\",\n",
"                zeroline = false\n",
"            ),\n",
"        boxmode = \"group\"\n",
"    )\n",
"\n",
"let chart3 =\n",
"    [groupedTrace1; groupedTrace2; groupedTrace3]\n",
"    |\u003e Chart.Plot\n",
"    |\u003e Chart.WithLayout layout\n",
"    |\u003e Chart.WithWidth 700\n",
"    |\u003e Chart.WithHeight 500\n"]
          }
,
          {
           "cell_type": "code",
           "metadata": {},
            "execution_count": null, "outputs": [
          {
           "data": {
            "text/html": ["\u003c!DOCTYPE html\u003e",
"\u003chtml\u003e",
"    \u003chead\u003e",
"        \u003cmeta charset=\"UTF-8\" /\u003e",
"        \u003cscript src=\"https://cdn.plot.ly/plotly-latest.min.js\"\u003e\u003c/script\u003e",
"    \u003c/head\u003e",
"    \u003cbody\u003e",
"        \u003cdiv id=\"18d8fb03-351e-4622-8f33-1fe8ed081bf0\" style=\"width: 700px; height: 500px;\"\u003e\u003c/div\u003e",
"        \u003cscript\u003e",
"            var data = [{\"type\":\"box\",\"y\":[0.2,0.2,0.6,1.0,0.5,0.4,0.2,0.7,0.9,0.1,0.5,0.3],\"x\":[\"day 1\",\"day 1\",\"day 1\",\"day 1\",\"day 1\",\"day 1\",\"day 2\",\"day 2\",\"day 2\",\"day 2\",\"day 2\",\"day 2\"],\"marker\":{\"color\":\"#3D9970\"},\"name\":\"kale\"},{\"type\":\"box\",\"y\":[0.6,0.7,0.3,0.6,0.0,0.5,0.7,0.9,0.5,0.8,0.7,0.2],\"x\":[\"day 1\",\"day 1\",\"day 1\",\"day 1\",\"day 1\",\"day 1\",\"day 2\",\"day 2\",\"day 2\",\"day 2\",\"day 2\",\"day 2\"],\"marker\":{\"color\":\"#FF4136\"},\"name\":\"radishes\"},{\"type\":\"box\",\"y\":[0.1,0.3,0.1,0.9,0.6,0.6,0.9,1.0,0.3,0.6,0.8,0.5],\"x\":[\"day 1\",\"day 1\",\"day 1\",\"day 1\",\"day 1\",\"day 1\",\"day 2\",\"day 2\",\"day 2\",\"day 2\",\"day 2\",\"day 2\"],\"marker\":{\"color\":\"#FF851B\"},\"name\":\"carrots\"}];",
"           var layout = {\"yaxis\":{\"title\":\"normalized moisture\",\"zeroline\":false,\"_isSubplotObj\":true},\"boxmode\":\"group\"};",
"           Plotly.newPlot(\u002718d8fb03-351e-4622-8f33-1fe8ed081bf0\u0027, data, layout);",
"        \u003c/script\u003e",
"    \u003c/body\u003e",
"\u003c/html\u003e"]
        },
           "execution_count": null,
           "metadata": {},
           "output_type": "execute_result"
          }], 
           "source": ["chart3\n"]
          }],
            "metadata": {
            "kernelspec": {"display_name": ".NET (F#)", "language": "F#", "name": ".net-fsharp"},
            "langauge_info": {
        "file_extension": ".fs",
        "mimetype": "text/x-fsharp",
        "name": "C#",
        "pygments_lexer": "fsharp",
        "version": "4.5"
        }
        },
            "nbformat": 4,
            "nbformat_minor": 1
        }
        

