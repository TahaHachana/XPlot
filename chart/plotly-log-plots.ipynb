
        {
            "cells": [
          {
           "cell_type": "code",
           "metadata": {},
            "execution_count": null, "outputs": [], 
           "source": ["#i \"nuget:https://pkgs.dev.azure.com/dnceng/public/_packaging/dotnet5/nuget/v3/index.json\"\n",
"#i \"nuget:https://pkgs.dev.azure.com/dnceng/public/_packaging/dotnet-tools/nuget/v3/index.json\"\n",
"#r \"nuget: XPlot.Plotly\"\n",
"#r \"nuget: XPlot.Plotly.Interactive\"\n"]
          }
,
          {
           "cell_type": "markdown",
           "metadata": {},
           
           "source": ["Plotly Log Plots\n",
"\n",
"[![Binder](https://mybinder.org/badge_logo.svg)](https://mybinder.org/v2/gh/fslaborg/XPlot/gh-pages?filepath=plotly-log-plots.ipynb)\n",
"\n",
"Logarithmic Axes\n",
"----------------\n"]
          }
,
          {
           "cell_type": "code",
           "metadata": {},
            "execution_count": 2, "outputs": [], 
           "source": ["open XPlot.Plotly\n"]
          }
,
          {
           "cell_type": "code",
           "metadata": {},
            "execution_count": 3, "outputs": [], 
           "source": ["let trace1 =\n",
"    Scatter(\n",
"        x = [0; 1; 2; 3; 4; 5; 6; 7; 8],\n",
"        y = [8; 7; 6; 5; 4; 3; 2; 1; 0]\n",
"    )\n",
"\n",
"let trace2 =\n",
"    Scatter(\n",
"        x = [0; 1; 2; 3; 4; 5; 6; 7; 8],\n",
"        y = [0; 1; 2; 3; 4; 5; 6; 7; 8]\n",
"    )\n",
"\n",
"let layout =\n",
"    Layout(\n",
"        title = \"Logarithmic Axes\",\n",
"        xaxis =\n",
"            Xaxis(\n",
"                ``type`` = \"log\",\n",
"                autorange = true\n",
"            ),\n",
"        yaxis =\n",
"            Yaxis(\n",
"                ``type`` = \"log\",\n",
"                autorange = true\n",
"            )\n",
"    )\n",
"\n",
"let chart =\n",
"    [trace1; trace2]\n",
"    |\u003e Chart.Plot\n",
"    |\u003e Chart.WithLayout layout\n",
"    |\u003e Chart.WithWidth 700\n",
"    |\u003e Chart.WithHeight 500\n"]
          }
,
          {
           "cell_type": "code",
           "metadata": {},
            "execution_count": null, "outputs": [
          {
           "data": {
            "text/html": ["\u003c!DOCTYPE html\u003e",
"\u003chtml\u003e",
"    \u003chead\u003e",
"        \u003cmeta charset=\"UTF-8\" /\u003e",
"        \u003cscript src=\"https://cdn.plot.ly/plotly-latest.min.js\"\u003e\u003c/script\u003e",
"    \u003c/head\u003e",
"    \u003cbody\u003e",
"        \u003cdiv id=\"a2b2fcfb-b376-4db6-8220-33f66e3c6edd\" style=\"width: 700px; height: 500px;\"\u003e\u003c/div\u003e",
"        \u003cscript\u003e",
"            var data = [{\"type\":\"scatter\",\"x\":[0,1,2,3,4,5,6,7,8],\"y\":[8,7,6,5,4,3,2,1,0]},{\"type\":\"scatter\",\"x\":[0,1,2,3,4,5,6,7,8],\"y\":[0,1,2,3,4,5,6,7,8]}];",
"           var layout = {\"title\":\"Logarithmic Axes\",\"xaxis\":{\"type\":\"log\",\"autorange\":true,\"_isSubplotObj\":true},\"yaxis\":{\"type\":\"log\",\"autorange\":true,\"_isSubplotObj\":true}};",
"           Plotly.newPlot(\u0027a2b2fcfb-b376-4db6-8220-33f66e3c6edd\u0027, data, layout);",
"        \u003c/script\u003e",
"    \u003c/body\u003e",
"\u003c/html\u003e"]
        },
           "execution_count": null,
           "metadata": {},
           "output_type": "execute_result"
          }], 
           "source": ["chart\n"]
          }],
            "metadata": {
            "kernelspec": {"display_name": ".NET (F#)", "language": "F#", "name": ".net-fsharp"},
            "langauge_info": {
        "file_extension": ".fs",
        "mimetype": "text/x-fsharp",
        "name": "C#",
        "pygments_lexer": "fsharp",
        "version": "4.5"
        }
        },
            "nbformat": 4,
            "nbformat_minor": 1
        }
        

