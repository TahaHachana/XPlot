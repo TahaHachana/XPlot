
        {
            "cells": [
          {
           "cell_type": "code",
           "metadata": {},
            "execution_count": null, "outputs": [], 
           "source": ["#i \"nuget:https://pkgs.dev.azure.com/dnceng/public/_packaging/dotnet5/nuget/v3/index.json\"\n",
"#i \"nuget:https://pkgs.dev.azure.com/dnceng/public/_packaging/dotnet-tools/nuget/v3/index.json\"\n",
"#r \"nuget: XPlot.Plotly\"\n",
"#r \"nuget: XPlot.Plotly.Interactive\"\n"]
          }
,
          {
           "cell_type": "markdown",
           "metadata": {},
           
           "source": ["Plotly Bubble Charts\n",
"\n",
"[![Binder](https://mybinder.org/badge_logo.svg)](https://mybinder.org/v2/gh/fslaborg/XPlot/gh-pages?filepath=plotly-bubble-charts.ipynb)\n",
"\n",
"Marker Size, Color, and Symbol as an Array\n",
"------------------------------------------\n"]
          }
,
          {
           "cell_type": "code",
           "metadata": {},
            "execution_count": 2, "outputs": [], 
           "source": ["open XPlot.Plotly\n",
"\n",
"let trace1 =\n",
"    Scatter(\n",
"        x = [1; 2; 3; 4],\n",
"        y = [10; 11; 12; 13],\n",
"        mode = \"markers\",\n",
"        marker =\n",
"            Marker(\n",
"                color = [\"hsl(0,100,40)\"; \"hsl(33,100,40)\"; \"hsl(66,100,40)\"; \"hsl(99,100,40)\"],\n",
"                size = [12; 22; 32; 42],\n",
"                opacity = [0.6, 0.7, 0.8, 0.9]\n",
"            )\n",
"    )\n",
"\n",
"let trace2 =\n",
"    Scatter(\n",
"        x = [1; 2; 3; 4],\n",
"        y = [11; 12; 13; 14],\n",
"        mode = \"markers\",\n",
"        marker =\n",
"            Marker(\n",
"                color = \"rgb(31, 119, 180)\",\n",
"                size = 18,\n",
"                symbol = [\"circle\"; \"square\"; \"diamond\"; \"cross\"]\n",
"            )\n",
"    )\n",
"\n",
"let trace3 =\n",
"    Scatter(\n",
"        x = [1; 2; 3; 4],\n",
"        y = [12; 13; 14; 15],\n",
"        mode = \"markers\",\n",
"        marker =\n",
"            Marker(\n",
"                size = 18,\n",
"                line =\n",
"                    Line(\n",
"                        color = [\"rgb(120,120,120)\"; \"rgb(120,120,120)\"; \"red\"; \"rgb(120,120,120)\"],\n",
"                        width = [2; 2; 6; 2]\n",
"                    )\n",
"            )\n",
"    )\n",
"\n",
"let chart =\n",
"    [trace1; trace2; trace3]\n",
"    |\u003e Chart.Plot\n",
"    |\u003e Chart.WithWidth 700\n",
"    |\u003e Chart.WithHeight 500\n"]
          }
,
          {
           "cell_type": "code",
           "metadata": {},
            "execution_count": null, "outputs": [
          {
           "data": {
            "text/html": ["\u003c!DOCTYPE html\u003e",
"\u003chtml\u003e",
"    \u003chead\u003e",
"        \u003cmeta charset=\"UTF-8\" /\u003e",
"        \u003cscript src=\"https://cdn.plot.ly/plotly-latest.min.js\"\u003e\u003c/script\u003e",
"    \u003c/head\u003e",
"    \u003cbody\u003e",
"        \u003cdiv id=\"4a691c40-e58a-46f5-acd6-509d64d548e9\" style=\"width: 700px; height: 500px;\"\u003e\u003c/div\u003e",
"        \u003cscript\u003e",
"            var data = [{\"type\":\"scatter\",\"x\":[1,2,3,4],\"y\":[10,11,12,13],\"mode\":\"markers\",\"marker\":{\"opacity\":[{\"Item1\":0.6,\"Item2\":0.7,\"Item3\":0.8,\"Item4\":0.9}],\"size\":[12,22,32,42],\"color\":[\"hsl(0,100,40)\",\"hsl(33,100,40)\",\"hsl(66,100,40)\",\"hsl(99,100,40)\"]}},{\"type\":\"scatter\",\"x\":[1,2,3,4],\"y\":[11,12,13,14],\"mode\":\"markers\",\"marker\":{\"symbol\":[\"circle\",\"square\",\"diamond\",\"cross\"],\"size\":18,\"color\":\"rgb(31, 119, 180)\"}},{\"type\":\"scatter\",\"x\":[1,2,3,4],\"y\":[12,13,14,15],\"mode\":\"markers\",\"marker\":{\"size\":18,\"line\":{\"color\":[\"rgb(120,120,120)\",\"rgb(120,120,120)\",\"red\",\"rgb(120,120,120)\"],\"width\":[2,2,6,2]}}}];",
"           var layout = \"\";",
"           Plotly.newPlot(\u00274a691c40-e58a-46f5-acd6-509d64d548e9\u0027, data, layout);",
"        \u003c/script\u003e",
"    \u003c/body\u003e",
"\u003c/html\u003e"]
        },
           "execution_count": null,
           "metadata": {},
           "output_type": "execute_result"
          }], 
           "source": ["chart\n"]
          }],
            "metadata": {
            "kernelspec": {"display_name": ".NET (F#)", "language": "F#", "name": ".net-fsharp"},
            "langauge_info": {
        "file_extension": ".fs",
        "mimetype": "text/x-fsharp",
        "name": "C#",
        "pygments_lexer": "fsharp",
        "version": "4.5"
        }
        },
            "nbformat": 4,
            "nbformat_minor": 1
        }
        

