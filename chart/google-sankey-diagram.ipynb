
        {
            "cells": [
          {
           "cell_type": "code",
           "metadata": {},
            "execution_count": null, "outputs": [], 
           "source": ["#i \"nuget:https://pkgs.dev.azure.com/dnceng/public/_packaging/dotnet5/nuget/v3/index.json\"\n",
"#i \"nuget:https://pkgs.dev.azure.com/dnceng/public/_packaging/dotnet-tools/nuget/v3/index.json\"\n",
"#r \"nuget: XPlot.GoogleCharts\"\n"]
          }
,
          {
           "cell_type": "markdown",
           "metadata": {},
           
           "source": ["Google Sankey Diagram\n",
"\n",
"[![Binder](https://mybinder.org/badge_logo.svg)](https://mybinder.org/v2/gh/fslaborg/XPlot/gh-pages?filepath=google-sankey-diagram.ipynb)\n",
"\n"]
          }
,
          {
           "cell_type": "code",
           "metadata": {},
            "execution_count": 2, "outputs": [
          {
           "data": {
            "text/html": ["\u003c!DOCTYPE html\u003e",
"\u003chtml\u003e",
"    \u003chead\u003e",
"        \u003cmeta charset=\"UTF-8\"\u003e",
"        \u003cmeta http-equiv=\"X-UA-Compatible\" content=\"IE=edge\" /\u003e",
"        \u003ctitle\u003eGoogle Chart\u003c/title\u003e",
"        \u003cscript type=\"text/javascript\" src=\"https://www.gstatic.com/charts/loader.js\"\u003e\u003c/script\u003e",
"        \u003cscript type=\"text/javascript\"\u003e",
"            google.charts.load(\u0027current\u0027, {",
"              packages: [\"sankey\"]",
"            });",
"            google.charts.setOnLoadCallback(drawChart_4aeaf85c_ceba_4908_81fe_6a43bc680313);",
"            function drawChart_4aeaf85c_ceba_4908_81fe_6a43bc680313() {",
"                if (\"\")",
"                    google.visualization.mapsApiKey = \"\"",
"",
"                var data = new google.visualization.DataTable({\"cols\": [{\"type\": \"string\" ,\"id\": \"Column 1\" ,\"label\": \"Column 1\" }, {\"type\": \"string\" ,\"id\": \"Column 2\" ,\"label\": \"Column 2\" }, {\"type\": \"number\" ,\"id\": \"Column 3\" ,\"label\": \"Column 3\" }], \"rows\" : [{\"c\" : [{\"v\": \"A\"}, {\"v\": \"X\"}, {\"v\": 5}]}, {\"c\" : [{\"v\": \"A\"}, {\"v\": \"Y\"}, {\"v\": 7}]}, {\"c\" : [{\"v\": \"A\"}, {\"v\": \"Z\"}, {\"v\": 6}]}, {\"c\" : [{\"v\": \"B\"}, {\"v\": \"X\"}, {\"v\": 2}]}, {\"c\" : [{\"v\": \"B\"}, {\"v\": \"Y\"}, {\"v\": 9}]}, {\"c\" : [{\"v\": \"B\"}, {\"v\": \"Z\"}, {\"v\": 4}]}]});",
"",
"                ",
"",
"                var options = {\"legend\":{\"position\":\"none\"}}",
"",
"                var chart = new google.visualization.Sankey(document.getElementById(\u00274aeaf85c_ceba_4908_81fe_6a43bc680313\u0027));",
"                chart.draw(data, options);",
"            }",
"        \u003c/script\u003e",
"    \u003c/head\u003e",
"    \u003cbody\u003e",
"        \u003cdiv id=\"4aeaf85c_ceba_4908_81fe_6a43bc680313\" style=\"width: 600px; height: 300px;\"\u003e\u003c/div\u003e",
"    \u003c/body\u003e",
"\u003c/html\u003e"]
        },
           "execution_count": 2,
           "metadata": {},
           "output_type": "execute_result"
          }], 
           "source": ["open XPlot.GoogleCharts\n",
"\n",
"let data =\n",
"    [\n",
"        \"A\", \"X\", 5\n",
"        \"A\", \"Y\", 7\n",
"        \"A\", \"Z\", 6\n",
"        \"B\", \"X\", 2\n",
"        \"B\", \"Y\", 9\n",
"        \"B\", \"Z\", 4\n",
"    ]\n",
"\n",
"let chart =\n",
"    data\n",
"    |\u003e Chart.Sankey\n",
"    |\u003e Chart.WithHeight 300\n",
"    |\u003e Chart.WithWidth 600\n"]
          }],
            "metadata": {
            "kernelspec": {"display_name": ".NET (F#)", "language": "F#", "name": ".net-fsharp"},
            "langauge_info": {
        "file_extension": ".fs",
        "mimetype": "text/x-fsharp",
        "name": "C#",
        "pygments_lexer": "fsharp",
        "version": "4.5"
        }
        },
            "nbformat": 4,
            "nbformat_minor": 1
        }
        

