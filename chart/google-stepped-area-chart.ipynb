
        {
            "cells": [
          {
           "cell_type": "code",
           "metadata": {},
            "execution_count": null, "outputs": [], 
           "source": ["#i \"nuget:https://pkgs.dev.azure.com/dnceng/public/_packaging/dotnet5/nuget/v3/index.json\"\n",
"#i \"nuget:https://pkgs.dev.azure.com/dnceng/public/_packaging/dotnet-tools/nuget/v3/index.json\"\n",
"#r \"nuget: XPlot.GoogleCharts\"\n"]
          }
,
          {
           "cell_type": "markdown",
           "metadata": {},
           
           "source": ["Google Stepped Area Chart\n",
"\n",
"[![Binder](https://mybinder.org/badge_logo.svg)](https://mybinder.org/v2/gh/fslaborg/XPlot/gh-pages?filepath=google-stepped-area-chart.ipynb)\n",
"\n"]
          }
,
          {
           "cell_type": "code",
           "metadata": {},
            "execution_count": 2, "outputs": [
          {
           "data": {
            "text/html": ["\u003c!DOCTYPE html\u003e",
"\u003chtml\u003e",
"    \u003chead\u003e",
"        \u003cmeta charset=\"UTF-8\"\u003e",
"        \u003cmeta http-equiv=\"X-UA-Compatible\" content=\"IE=edge\" /\u003e",
"        \u003ctitle\u003eGoogle Chart\u003c/title\u003e",
"        \u003cscript type=\"text/javascript\" src=\"https://www.gstatic.com/charts/loader.js\"\u003e\u003c/script\u003e",
"        \u003cscript type=\"text/javascript\"\u003e",
"            google.charts.load(\u0027current\u0027, {",
"              packages: [\"corechart\"]",
"            });",
"            google.charts.setOnLoadCallback(drawChart_bb3629d6_88ec_4576_8b3c_46acd6f87fec);",
"            function drawChart_bb3629d6_88ec_4576_8b3c_46acd6f87fec() {",
"                if (\"\")",
"                    google.visualization.mapsApiKey = \"\"",
"",
"                var data = new google.visualization.DataTable({\"cols\": [{\"type\": \"string\" ,\"id\": \"Column 1\" ,\"label\": \"Column 1\" }, {\"type\": \"number\" ,\"id\": \"Rotten Tomatoes\" ,\"label\": \"Rotten Tomatoes\" }, {\"type\": \"number\" ,\"id\": \"IMDB\" ,\"label\": \"IMDB\" }], \"rows\" : [{\"c\" : [{\"v\": \"Alfred Hitchcock (1935)\"}, {\"v\": 8.4}, {\"v\": 7.9}]}, {\"c\" : [{\"v\": \"Ralph Thomas (1959)\"}, {\"v\": 6.9}, {\"v\": 6.5}]}, {\"c\" : [{\"v\": \"Don Sharp (1978)\"}, {\"v\": 6.5}, {\"v\": 6.4}]}, {\"c\" : [{\"v\": \"James Hawes (2008)\"}, {\"v\": 4.4}, {\"v\": 6.2}]}]});",
"",
"                ",
"",
"                var options = {\"isStacked\":true,\"legend\":{\"position\":\"right\"},\"title\":\"The decline of \u0027The 39 Steps\u0027\",\"vAxis\":{\"title\":\"Accumulated Rating\"}}",
"",
"                var chart = new google.visualization.SteppedAreaChart(document.getElementById(\u0027bb3629d6_88ec_4576_8b3c_46acd6f87fec\u0027));",
"                chart.draw(data, options);",
"            }",
"        \u003c/script\u003e",
"    \u003c/head\u003e",
"    \u003cbody\u003e",
"        \u003cdiv id=\"bb3629d6_88ec_4576_8b3c_46acd6f87fec\" style=\"width: -1px; height: -1px;\"\u003e\u003c/div\u003e",
"    \u003c/body\u003e",
"\u003c/html\u003e"]
        },
           "execution_count": 2,
           "metadata": {},
           "output_type": "execute_result"
          }], 
           "source": ["open XPlot.GoogleCharts\n",
"\n",
"let data =\n",
"    [\n",
"        [\n",
"            \"Alfred Hitchcock (1935)\", 8.4\n",
"            \"Ralph Thomas (1959)\", 6.9\n",
"            \"Don Sharp (1978)\", 6.5\n",
"            \"James Hawes (2008)\", 4.4\n",
"        ]\n",
"        [\n",
"            \"Alfred Hitchcock (1935)\", 7.9\n",
"            \"Ralph Thomas (1959)\", 6.5\n",
"            \"Don Sharp (1978)\", 6.4\n",
"            \"James Hawes (2008)\", 6.2\n",
"        ]\n",
"    ]\n",
"\n",
"let options =\n",
"    Options(\n",
"        title = \"The decline of \u0027The 39 Steps\u0027\",\n",
"        vAxis = Axis(title = \"Accumulated Rating\"),\n",
"        isStacked = true\n",
"    )\n",
"\n",
"let chart =\n",
"    data\n",
"    |\u003e Chart.SteppedArea\n",
"    |\u003e Chart.WithOptions options\n",
"    |\u003e Chart.WithLabels [\"Rotten Tomatoes\"; \"IMDB\"]\n"]
          }],
            "metadata": {
            "kernelspec": {"display_name": ".NET (F#)", "language": "F#", "name": ".net-fsharp"},
            "langauge_info": {
        "file_extension": ".fs",
        "mimetype": "text/x-fsharp",
        "name": "C#",
        "pygments_lexer": "fsharp",
        "version": "4.5"
        }
        },
            "nbformat": 4,
            "nbformat_minor": 1
        }
        

